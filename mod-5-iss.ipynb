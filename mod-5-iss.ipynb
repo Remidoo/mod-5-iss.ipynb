{
 "cells": [
  {
   "cell_type": "code",
   "execution_count": 1,
   "id": "f4b5cef2-b13d-4093-848b-11c832e74138",
   "metadata": {},
   "outputs": [
    {
     "name": "stdout",
     "output_type": "stream",
     "text": [
      "Requirement already satisfied: requests in ./opt/anaconda3/lib/python3.9/site-packages (2.27.1)\n",
      "Requirement already satisfied: idna<4,>=2.5 in ./opt/anaconda3/lib/python3.9/site-packages (from requests) (3.3)\n",
      "Requirement already satisfied: certifi>=2017.4.17 in ./opt/anaconda3/lib/python3.9/site-packages (from requests) (2021.10.8)\n",
      "Requirement already satisfied: charset-normalizer~=2.0.0 in ./opt/anaconda3/lib/python3.9/site-packages (from requests) (2.0.4)\n",
      "Requirement already satisfied: urllib3<1.27,>=1.21.1 in ./opt/anaconda3/lib/python3.9/site-packages (from requests) (1.26.9)\n",
      "Note: you may need to restart the kernel to use updated packages.\n"
     ]
    }
   ],
   "source": [
    "pip install requests"
   ]
  },
  {
   "cell_type": "code",
   "execution_count": 3,
   "id": "f7022c9e-1beb-4849-a81c-768ae8289c32",
   "metadata": {},
   "outputs": [
    {
     "name": "stdout",
     "output_type": "stream",
     "text": [
      "Requirement already satisfied: matplotlib in ./opt/anaconda3/lib/python3.9/site-packages (3.5.1)\n",
      "Requirement already satisfied: python-dateutil>=2.7 in ./opt/anaconda3/lib/python3.9/site-packages (from matplotlib) (2.8.2)\n",
      "Requirement already satisfied: packaging>=20.0 in ./opt/anaconda3/lib/python3.9/site-packages (from matplotlib) (21.3)\n",
      "Requirement already satisfied: numpy>=1.17 in ./opt/anaconda3/lib/python3.9/site-packages (from matplotlib) (1.21.5)\n",
      "Requirement already satisfied: pillow>=6.2.0 in ./opt/anaconda3/lib/python3.9/site-packages (from matplotlib) (9.0.1)\n",
      "Requirement already satisfied: cycler>=0.10 in ./opt/anaconda3/lib/python3.9/site-packages (from matplotlib) (0.11.0)\n",
      "Requirement already satisfied: fonttools>=4.22.0 in ./opt/anaconda3/lib/python3.9/site-packages (from matplotlib) (4.25.0)\n",
      "Requirement already satisfied: kiwisolver>=1.0.1 in ./opt/anaconda3/lib/python3.9/site-packages (from matplotlib) (1.3.2)\n",
      "Requirement already satisfied: pyparsing>=2.2.1 in ./opt/anaconda3/lib/python3.9/site-packages (from matplotlib) (3.0.4)\n",
      "Requirement already satisfied: six>=1.5 in ./opt/anaconda3/lib/python3.9/site-packages (from python-dateutil>=2.7->matplotlib) (1.16.0)\n",
      "Note: you may need to restart the kernel to use updated packages.\n"
     ]
    }
   ],
   "source": [
    "pip install matplotlib"
   ]
  },
  {
   "cell_type": "code",
   "execution_count": 4,
   "id": "a8a2385b-93f9-4902-a8ad-1f3d69e3e575",
   "metadata": {},
   "outputs": [
    {
     "data": {
      "text/plain": [
       "{'iss_position': {'latitude': '-0.5093', 'longitude': '-126.8758'},\n",
       " 'message': 'success',\n",
       " 'timestamp': 1657595874}"
      ]
     },
     "execution_count": 4,
     "metadata": {},
     "output_type": "execute_result"
    }
   ],
   "source": [
    "import json  \n",
    "import urllib.request \n",
    "import time \n",
    "  \n",
    "url = \"http://api.open-notify.org/iss-now.json\"\n",
    "response = urllib.request.urlopen(url) \n",
    "result = json.loads(response.read())\n",
    "result"
   ]
  },
  {
   "cell_type": "code",
   "execution_count": 5,
   "id": "1b870e91-ee3b-4355-a4f3-9f36a2ef821a",
   "metadata": {},
   "outputs": [
    {
     "data": {
      "text/plain": [
       "{'iss_position': {'latitude': '-0.1282', 'longitude': '-126.6058'},\n",
       " 'message': 'success',\n",
       " 'timestamp': 1657595882}"
      ]
     },
     "execution_count": 5,
     "metadata": {},
     "output_type": "execute_result"
    }
   ],
   "source": [
    "url = \"http://api.open-notify.org/iss-now.json\"\n",
    "response = urllib.request.urlopen(url) \n",
    "result = json.loads(response.read())\n",
    "result"
   ]
  },
  {
   "cell_type": "code",
   "execution_count": 6,
   "id": "941feade-c24f-4a29-b4d3-352caa14ae6d",
   "metadata": {},
   "outputs": [
    {
     "data": {
      "text/plain": [
       "{'iss_position': {'latitude': '0.1259', 'longitude': '-126.4258'},\n",
       " 'message': 'success',\n",
       " 'timestamp': 1657595887}"
      ]
     },
     "execution_count": 6,
     "metadata": {},
     "output_type": "execute_result"
    }
   ],
   "source": [
    "url = \"http://api.open-notify.org/iss-now.json\"\n",
    "response = urllib.request.urlopen(url) \n",
    "result = json.loads(response.read())\n",
    "result"
   ]
  },
  {
   "cell_type": "code",
   "execution_count": 7,
   "id": "4b21dd2e-350c-4e02-bd35-029be9d351d5",
   "metadata": {},
   "outputs": [
    {
     "data": {
      "text/plain": [
       "{'iss_position': {'latitude': '0.3799', 'longitude': '-126.2458'},\n",
       " 'message': 'success',\n",
       " 'timestamp': 1657595892}"
      ]
     },
     "execution_count": 7,
     "metadata": {},
     "output_type": "execute_result"
    }
   ],
   "source": [
    "url = \"http://api.open-notify.org/iss-now.json\"\n",
    "response = urllib.request.urlopen(url) \n",
    "result = json.loads(response.read())\n",
    "result"
   ]
  },
  {
   "cell_type": "code",
   "execution_count": 8,
   "id": "426fce06-6d48-4461-9f90-f55d37df63ad",
   "metadata": {},
   "outputs": [
    {
     "data": {
      "text/plain": [
       "{'iss_position': {'latitude': '0.6340', 'longitude': '-126.0659'},\n",
       " 'message': 'success',\n",
       " 'timestamp': 1657595897}"
      ]
     },
     "execution_count": 8,
     "metadata": {},
     "output_type": "execute_result"
    }
   ],
   "source": [
    "url = \"http://api.open-notify.org/iss-now.json\"\n",
    "response = urllib.request.urlopen(url) \n",
    "result = json.loads(response.read())\n",
    "result"
   ]
  },
  {
   "cell_type": "code",
   "execution_count": 9,
   "id": "b66551e0-c0f4-44ed-8446-a410743ac501",
   "metadata": {},
   "outputs": [
    {
     "data": {
      "text/plain": [
       "{'iss_position': {'latitude': '0.8880', 'longitude': '-125.8859'},\n",
       " 'message': 'success',\n",
       " 'timestamp': 1657595902}"
      ]
     },
     "execution_count": 9,
     "metadata": {},
     "output_type": "execute_result"
    }
   ],
   "source": [
    "url = \"http://api.open-notify.org/iss-now.json\"\n",
    "response = urllib.request.urlopen(url) \n",
    "result = json.loads(response.read())\n",
    "result"
   ]
  },
  {
   "cell_type": "code",
   "execution_count": 10,
   "id": "7bbe5c24-af9e-4eb9-aa3a-d70f200fec3d",
   "metadata": {},
   "outputs": [
    {
     "data": {
      "text/plain": [
       "{'iss_position': {'latitude': '1.1420', 'longitude': '-125.7058'},\n",
       " 'message': 'success',\n",
       " 'timestamp': 1657595907}"
      ]
     },
     "execution_count": 10,
     "metadata": {},
     "output_type": "execute_result"
    }
   ],
   "source": [
    "url = \"http://api.open-notify.org/iss-now.json\"\n",
    "response = urllib.request.urlopen(url) \n",
    "result = json.loads(response.read())\n",
    "result"
   ]
  },
  {
   "cell_type": "code",
   "execution_count": 11,
   "id": "b38a7218-99e9-40df-8b47-8555a5e12a67",
   "metadata": {},
   "outputs": [
    {
     "data": {
      "text/plain": [
       "{'iss_position': {'latitude': '1.3961', 'longitude': '-125.5257'},\n",
       " 'message': 'success',\n",
       " 'timestamp': 1657595912}"
      ]
     },
     "execution_count": 11,
     "metadata": {},
     "output_type": "execute_result"
    }
   ],
   "source": [
    "url = \"http://api.open-notify.org/iss-now.json\"\n",
    "response = urllib.request.urlopen(url) \n",
    "result = json.loads(response.read())\n",
    "result"
   ]
  },
  {
   "cell_type": "code",
   "execution_count": 12,
   "id": "99d2175c-d6d2-427d-891c-dfd6df2408ff",
   "metadata": {},
   "outputs": [
    {
     "data": {
      "text/plain": [
       "{'iss_position': {'latitude': '1.6755', 'longitude': '-125.3275'},\n",
       " 'message': 'success',\n",
       " 'timestamp': 1657595917}"
      ]
     },
     "execution_count": 12,
     "metadata": {},
     "output_type": "execute_result"
    }
   ],
   "source": [
    "url = \"http://api.open-notify.org/iss-now.json\"\n",
    "response = urllib.request.urlopen(url) \n",
    "result = json.loads(response.read())\n",
    "result"
   ]
  },
  {
   "cell_type": "code",
   "execution_count": 13,
   "id": "711b008b-0cec-4ca3-98e2-90359e222b74",
   "metadata": {},
   "outputs": [
    {
     "data": {
      "text/plain": [
       "{'iss_position': {'latitude': '1.9042', 'longitude': '-125.1653'},\n",
       " 'message': 'success',\n",
       " 'timestamp': 1657595922}"
      ]
     },
     "execution_count": 13,
     "metadata": {},
     "output_type": "execute_result"
    }
   ],
   "source": [
    "url = \"http://api.open-notify.org/iss-now.json\"\n",
    "response = urllib.request.urlopen(url) \n",
    "result = json.loads(response.read())\n",
    "result"
   ]
  },
  {
   "cell_type": "code",
   "execution_count": 14,
   "id": "9ee4d885-9f91-43d4-8dad-aca324040696",
   "metadata": {},
   "outputs": [
    {
     "data": {
      "text/plain": [
       "{'iss_position': {'latitude': '2.1835', 'longitude': '-124.9671'},\n",
       " 'message': 'success',\n",
       " 'timestamp': 1657595927}"
      ]
     },
     "execution_count": 14,
     "metadata": {},
     "output_type": "execute_result"
    }
   ],
   "source": [
    "url = \"http://api.open-notify.org/iss-now.json\"\n",
    "response = urllib.request.urlopen(url) \n",
    "result = json.loads(response.read())\n",
    "result"
   ]
  },
  {
   "cell_type": "code",
   "execution_count": 15,
   "id": "13cfdbb2-8f01-4fa4-ae6b-4783765765d9",
   "metadata": {},
   "outputs": [
    {
     "data": {
      "text/plain": [
       "{'iss_position': {'latitude': '2.4121', 'longitude': '-124.8048'},\n",
       " 'message': 'success',\n",
       " 'timestamp': 1657595932}"
      ]
     },
     "execution_count": 15,
     "metadata": {},
     "output_type": "execute_result"
    }
   ],
   "source": [
    "url = \"http://api.open-notify.org/iss-now.json\"\n",
    "response = urllib.request.urlopen(url) \n",
    "result = json.loads(response.read())\n",
    "result"
   ]
  },
  {
   "cell_type": "code",
   "execution_count": 16,
   "id": "35ad3460-001f-4674-a22b-4f4f3892153d",
   "metadata": {},
   "outputs": [
    {
     "data": {
      "text/plain": [
       "{'iss_position': {'latitude': '2.6660', 'longitude': '-124.6244'},\n",
       " 'message': 'success',\n",
       " 'timestamp': 1657595937}"
      ]
     },
     "execution_count": 16,
     "metadata": {},
     "output_type": "execute_result"
    }
   ],
   "source": [
    "url = \"http://api.open-notify.org/iss-now.json\"\n",
    "response = urllib.request.urlopen(url) \n",
    "result = json.loads(response.read())\n",
    "result"
   ]
  },
  {
   "cell_type": "code",
   "execution_count": 17,
   "id": "8541f3ad-ea46-43ce-817c-8fcfce1b9ad5",
   "metadata": {},
   "outputs": [
    {
     "data": {
      "text/plain": [
       "{'iss_position': {'latitude': '2.9200', 'longitude': '-124.4439'},\n",
       " 'message': 'success',\n",
       " 'timestamp': 1657595942}"
      ]
     },
     "execution_count": 17,
     "metadata": {},
     "output_type": "execute_result"
    }
   ],
   "source": [
    "url = \"http://api.open-notify.org/iss-now.json\"\n",
    "response = urllib.request.urlopen(url) \n",
    "result = json.loads(response.read())\n",
    "result"
   ]
  },
  {
   "cell_type": "code",
   "execution_count": 18,
   "id": "88d48e7f-6996-4414-8e33-3869a970acec",
   "metadata": {},
   "outputs": [
    {
     "data": {
      "text/plain": [
       "{'iss_position': {'latitude': '3.1992', 'longitude': '-124.2452'},\n",
       " 'message': 'success',\n",
       " 'timestamp': 1657595948}"
      ]
     },
     "execution_count": 18,
     "metadata": {},
     "output_type": "execute_result"
    }
   ],
   "source": [
    "url = \"http://api.open-notify.org/iss-now.json\"\n",
    "response = urllib.request.urlopen(url) \n",
    "result = json.loads(response.read())\n",
    "result"
   ]
  },
  {
   "cell_type": "code",
   "execution_count": 19,
   "id": "bf23db23-acb7-4377-926c-5629b4def0fe",
   "metadata": {},
   "outputs": [
    {
     "data": {
      "text/plain": [
       "{'iss_position': {'latitude': '3.4277', 'longitude': '-124.0826'},\n",
       " 'message': 'success',\n",
       " 'timestamp': 1657595952}"
      ]
     },
     "execution_count": 19,
     "metadata": {},
     "output_type": "execute_result"
    }
   ],
   "source": [
    "url = \"http://api.open-notify.org/iss-now.json\"\n",
    "response = urllib.request.urlopen(url) \n",
    "result = json.loads(response.read())\n",
    "result"
   ]
  },
  {
   "cell_type": "code",
   "execution_count": 20,
   "id": "cb12c31d-cdfe-4099-adf5-abdfbcc5cddd",
   "metadata": {},
   "outputs": [
    {
     "data": {
      "text/plain": [
       "{'iss_position': {'latitude': '3.6815', 'longitude': '-123.9018'},\n",
       " 'message': 'success',\n",
       " 'timestamp': 1657595957}"
      ]
     },
     "execution_count": 20,
     "metadata": {},
     "output_type": "execute_result"
    }
   ],
   "source": [
    "url = \"http://api.open-notify.org/iss-now.json\"\n",
    "response = urllib.request.urlopen(url) \n",
    "result = json.loads(response.read())\n",
    "result"
   ]
  },
  {
   "cell_type": "code",
   "execution_count": 21,
   "id": "ce65511e-2717-4275-a6f3-608775547471",
   "metadata": {},
   "outputs": [
    {
     "data": {
      "text/plain": [
       "{'iss_position': {'latitude': '3.9353', 'longitude': '-123.7209'},\n",
       " 'message': 'success',\n",
       " 'timestamp': 1657595962}"
      ]
     },
     "execution_count": 21,
     "metadata": {},
     "output_type": "execute_result"
    }
   ],
   "source": [
    "url = \"http://api.open-notify.org/iss-now.json\"\n",
    "response = urllib.request.urlopen(url) \n",
    "result = json.loads(response.read())\n",
    "result"
   ]
  },
  {
   "cell_type": "code",
   "execution_count": 22,
   "id": "8f1d40d3-c1bb-469d-8f6e-28b485ae1191",
   "metadata": {},
   "outputs": [
    {
     "data": {
      "text/plain": [
       "{'iss_position': {'latitude': '4.1890', 'longitude': '-123.5398'},\n",
       " 'message': 'success',\n",
       " 'timestamp': 1657595967}"
      ]
     },
     "execution_count": 22,
     "metadata": {},
     "output_type": "execute_result"
    }
   ],
   "source": [
    "url = \"http://api.open-notify.org/iss-now.json\"\n",
    "response = urllib.request.urlopen(url) \n",
    "result = json.loads(response.read())\n",
    "result"
   ]
  },
  {
   "cell_type": "code",
   "execution_count": 23,
   "id": "66753e80-1346-46e7-86a8-1b0d5ebcde9e",
   "metadata": {},
   "outputs": [
    {
     "data": {
      "text/plain": [
       "{'iss_position': {'latitude': '4.4427', 'longitude': '-123.3586'},\n",
       " 'message': 'success',\n",
       " 'timestamp': 1657595972}"
      ]
     },
     "execution_count": 23,
     "metadata": {},
     "output_type": "execute_result"
    }
   ],
   "source": [
    "url = \"http://api.open-notify.org/iss-now.json\"\n",
    "response = urllib.request.urlopen(url) \n",
    "result = json.loads(response.read())\n",
    "result"
   ]
  },
  {
   "cell_type": "code",
   "execution_count": 24,
   "id": "ab7e0f16-ffcf-4988-bcae-435d6ec3824b",
   "metadata": {},
   "outputs": [
    {
     "data": {
      "text/plain": [
       "{'iss_position': {'latitude': '4.7217', 'longitude': '-123.1591'},\n",
       " 'message': 'success',\n",
       " 'timestamp': 1657595978}"
      ]
     },
     "execution_count": 24,
     "metadata": {},
     "output_type": "execute_result"
    }
   ],
   "source": [
    "url = \"http://api.open-notify.org/iss-now.json\"\n",
    "response = urllib.request.urlopen(url) \n",
    "result = json.loads(response.read())\n",
    "result"
   ]
  },
  {
   "cell_type": "code",
   "execution_count": 25,
   "id": "ad05807f-fcac-4825-94d8-66fc74a71d02",
   "metadata": {},
   "outputs": [
    {
     "data": {
      "text/plain": [
       "{'iss_position': {'latitude': '4.9752', 'longitude': '-122.9777'},\n",
       " 'message': 'success',\n",
       " 'timestamp': 1657595983}"
      ]
     },
     "execution_count": 25,
     "metadata": {},
     "output_type": "execute_result"
    }
   ],
   "source": [
    "url = \"http://api.open-notify.org/iss-now.json\"\n",
    "response = urllib.request.urlopen(url) \n",
    "result = json.loads(response.read())\n",
    "result"
   ]
  },
  {
   "cell_type": "code",
   "execution_count": 26,
   "id": "22a2c4e4-f3c6-441e-8004-d064eaaeb08b",
   "metadata": {},
   "outputs": [
    {
     "data": {
      "text/plain": [
       "{'iss_position': {'latitude': '5.2034', 'longitude': '-122.8142'},\n",
       " 'message': 'success',\n",
       " 'timestamp': 1657595987}"
      ]
     },
     "execution_count": 26,
     "metadata": {},
     "output_type": "execute_result"
    }
   ],
   "source": [
    "url = \"http://api.open-notify.org/iss-now.json\"\n",
    "response = urllib.request.urlopen(url) \n",
    "result = json.loads(response.read())\n",
    "result"
   ]
  },
  {
   "cell_type": "code",
   "execution_count": 27,
   "id": "b6e50725-543b-4a1e-a5d7-25d04fd99f8c",
   "metadata": {},
   "outputs": [
    {
     "data": {
      "text/plain": [
       "{'iss_position': {'latitude': '5.4568', 'longitude': '-122.6325'},\n",
       " 'message': 'success',\n",
       " 'timestamp': 1657595992}"
      ]
     },
     "execution_count": 27,
     "metadata": {},
     "output_type": "execute_result"
    }
   ],
   "source": [
    "url = \"http://api.open-notify.org/iss-now.json\"\n",
    "response = urllib.request.urlopen(url) \n",
    "result = json.loads(response.read())\n",
    "result"
   ]
  },
  {
   "cell_type": "code",
   "execution_count": 28,
   "id": "bfbee525-174d-41f8-8c12-59d067b4b9f8",
   "metadata": {},
   "outputs": [
    {
     "data": {
      "text/plain": [
       "{'iss_position': {'latitude': '5.7101', 'longitude': '-122.4505'},\n",
       " 'message': 'success',\n",
       " 'timestamp': 1657595997}"
      ]
     },
     "execution_count": 28,
     "metadata": {},
     "output_type": "execute_result"
    }
   ],
   "source": [
    "url = \"http://api.open-notify.org/iss-now.json\"\n",
    "response = urllib.request.urlopen(url) \n",
    "result = json.loads(response.read())\n",
    "result"
   ]
  },
  {
   "cell_type": "code",
   "execution_count": 29,
   "id": "9f302931-5159-4c17-acb8-5b27d3bf03d5",
   "metadata": {},
   "outputs": [
    {
     "data": {
      "text/plain": [
       "{'iss_position': {'latitude': '5.9635', 'longitude': '-122.2683'},\n",
       " 'message': 'success',\n",
       " 'timestamp': 1657596002}"
      ]
     },
     "execution_count": 29,
     "metadata": {},
     "output_type": "execute_result"
    }
   ],
   "source": [
    "url = \"http://api.open-notify.org/iss-now.json\"\n",
    "response = urllib.request.urlopen(url) \n",
    "result = json.loads(response.read())\n",
    "result"
   ]
  },
  {
   "cell_type": "code",
   "execution_count": 30,
   "id": "3eb8703a-5bdf-40e2-b3da-f7c235c0168b",
   "metadata": {},
   "outputs": [
    {
     "data": {
      "text/plain": [
       "{'iss_position': {'latitude': '6.1914', 'longitude': '-122.1042'},\n",
       " 'message': 'success',\n",
       " 'timestamp': 1657596007}"
      ]
     },
     "execution_count": 30,
     "metadata": {},
     "output_type": "execute_result"
    }
   ],
   "source": [
    "url = \"http://api.open-notify.org/iss-now.json\"\n",
    "response = urllib.request.urlopen(url) \n",
    "result = json.loads(response.read())\n",
    "result"
   ]
  },
  {
   "cell_type": "code",
   "execution_count": 31,
   "id": "e1f04412-1811-4ccd-934f-d66e7660635c",
   "metadata": {},
   "outputs": [
    {
     "data": {
      "text/plain": [
       "{'iss_position': {'latitude': '6.4699', 'longitude': '-121.9035'},\n",
       " 'message': 'success',\n",
       " 'timestamp': 1657596012}"
      ]
     },
     "execution_count": 31,
     "metadata": {},
     "output_type": "execute_result"
    }
   ],
   "source": [
    "url = \"http://api.open-notify.org/iss-now.json\"\n",
    "response = urllib.request.urlopen(url) \n",
    "result = json.loads(response.read())\n",
    "result"
   ]
  },
  {
   "cell_type": "code",
   "execution_count": 32,
   "id": "106fa101-c2ea-4399-a7d9-94e070fd315f",
   "metadata": {},
   "outputs": [
    {
     "data": {
      "text/plain": [
       "{'iss_position': {'latitude': '6.7230', 'longitude': '-121.7207'},\n",
       " 'message': 'success',\n",
       " 'timestamp': 1657596017}"
      ]
     },
     "execution_count": 32,
     "metadata": {},
     "output_type": "execute_result"
    }
   ],
   "source": [
    "url = \"http://api.open-notify.org/iss-now.json\"\n",
    "response = urllib.request.urlopen(url) \n",
    "result = json.loads(response.read())\n",
    "result"
   ]
  },
  {
   "cell_type": "code",
   "execution_count": 33,
   "id": "0b8784b9-d024-483d-9a35-368017a8965e",
   "metadata": {},
   "outputs": [
    {
     "data": {
      "text/plain": [
       "{'iss_position': {'latitude': '6.9760', 'longitude': '-121.5378'},\n",
       " 'message': 'success',\n",
       " 'timestamp': 1657596022}"
      ]
     },
     "execution_count": 33,
     "metadata": {},
     "output_type": "execute_result"
    }
   ],
   "source": [
    "url = \"http://api.open-notify.org/iss-now.json\"\n",
    "response = urllib.request.urlopen(url) \n",
    "result = json.loads(response.read())\n",
    "result"
   ]
  },
  {
   "cell_type": "code",
   "execution_count": 34,
   "id": "03bce1d6-5a40-4df8-8b7d-718d4ded2c4c",
   "metadata": {},
   "outputs": [
    {
     "data": {
      "text/plain": [
       "{'iss_position': {'latitude': '7.2289', 'longitude': '-121.3546'},\n",
       " 'message': 'success',\n",
       " 'timestamp': 1657596027}"
      ]
     },
     "execution_count": 34,
     "metadata": {},
     "output_type": "execute_result"
    }
   ],
   "source": [
    "url = \"http://api.open-notify.org/iss-now.json\"\n",
    "response = urllib.request.urlopen(url) \n",
    "result = json.loads(response.read())\n",
    "result"
   ]
  },
  {
   "cell_type": "code",
   "execution_count": 35,
   "id": "96c988f0-adab-46e8-9974-dd2e42dbcead",
   "metadata": {},
   "outputs": [
    {
     "data": {
      "text/plain": [
       "{'iss_position': {'latitude': '7.5069', 'longitude': '-121.1529'},\n",
       " 'message': 'success',\n",
       " 'timestamp': 1657596033}"
      ]
     },
     "execution_count": 35,
     "metadata": {},
     "output_type": "execute_result"
    }
   ],
   "source": [
    "url = \"http://api.open-notify.org/iss-now.json\"\n",
    "response = urllib.request.urlopen(url) \n",
    "result = json.loads(response.read())\n",
    "result"
   ]
  },
  {
   "cell_type": "code",
   "execution_count": 36,
   "id": "f8978f1b-cacc-438f-ba95-8b3bfc4fe34d",
   "metadata": {},
   "outputs": [
    {
     "data": {
      "text/plain": [
       "{'iss_position': {'latitude': '7.7343', 'longitude': '-120.9876'},\n",
       " 'message': 'success',\n",
       " 'timestamp': 1657596037}"
      ]
     },
     "execution_count": 36,
     "metadata": {},
     "output_type": "execute_result"
    }
   ],
   "source": [
    "url = \"http://api.open-notify.org/iss-now.json\"\n",
    "response = urllib.request.urlopen(url) \n",
    "result = json.loads(response.read())\n",
    "result"
   ]
  },
  {
   "cell_type": "code",
   "execution_count": 37,
   "id": "e1b41e31-81ae-4b25-99a5-7a59cb710f03",
   "metadata": {},
   "outputs": [
    {
     "data": {
      "text/plain": [
       "{'iss_position': {'latitude': '7.9869', 'longitude': '-120.8037'},\n",
       " 'message': 'success',\n",
       " 'timestamp': 1657596042}"
      ]
     },
     "execution_count": 37,
     "metadata": {},
     "output_type": "execute_result"
    }
   ],
   "source": [
    "url = \"http://api.open-notify.org/iss-now.json\"\n",
    "response = urllib.request.urlopen(url) \n",
    "result = json.loads(response.read())\n",
    "result"
   ]
  },
  {
   "cell_type": "code",
   "execution_count": 38,
   "id": "c885caa5-238c-4e66-b156-e01b476b2c1b",
   "metadata": {},
   "outputs": [
    {
     "data": {
      "text/plain": [
       "{'iss_position': {'latitude': '8.2395', 'longitude': '-120.6196'},\n",
       " 'message': 'success',\n",
       " 'timestamp': 1657596047}"
      ]
     },
     "execution_count": 38,
     "metadata": {},
     "output_type": "execute_result"
    }
   ],
   "source": [
    "url = \"http://api.open-notify.org/iss-now.json\"\n",
    "response = urllib.request.urlopen(url) \n",
    "result = json.loads(response.read())\n",
    "result"
   ]
  },
  {
   "cell_type": "code",
   "execution_count": 39,
   "id": "bce674b6-7e10-4db6-8d4e-9ba4873d084f",
   "metadata": {},
   "outputs": [
    {
     "data": {
      "text/plain": [
       "{'iss_position': {'latitude': '8.4918', 'longitude': '-120.4352'},\n",
       " 'message': 'success',\n",
       " 'timestamp': 1657596052}"
      ]
     },
     "execution_count": 39,
     "metadata": {},
     "output_type": "execute_result"
    }
   ],
   "source": [
    "url = \"http://api.open-notify.org/iss-now.json\"\n",
    "response = urllib.request.urlopen(url) \n",
    "result = json.loads(response.read())\n",
    "result"
   ]
  },
  {
   "cell_type": "code",
   "execution_count": 40,
   "id": "f37e8570-74ac-4423-9592-6e8d3f386d29",
   "metadata": {},
   "outputs": [
    {
     "data": {
      "text/plain": [
       "{'iss_position': {'latitude': '8.7441', 'longitude': '-120.2506'},\n",
       " 'message': 'success',\n",
       " 'timestamp': 1657596057}"
      ]
     },
     "execution_count": 40,
     "metadata": {},
     "output_type": "execute_result"
    }
   ],
   "source": [
    "url = \"http://api.open-notify.org/iss-now.json\"\n",
    "response = urllib.request.urlopen(url) \n",
    "result = json.loads(response.read())\n",
    "result"
   ]
  },
  {
   "cell_type": "code",
   "execution_count": 41,
   "id": "c093ec53-d4ae-4aed-981c-73c4a4ef6acd",
   "metadata": {},
   "outputs": [
    {
     "data": {
      "text/plain": [
       "{'iss_position': {'latitude': '8.9964', 'longitude': '-120.0656'},\n",
       " 'message': 'success',\n",
       " 'timestamp': 1657596062}"
      ]
     },
     "execution_count": 41,
     "metadata": {},
     "output_type": "execute_result"
    }
   ],
   "source": [
    "url = \"http://api.open-notify.org/iss-now.json\"\n",
    "response = urllib.request.urlopen(url) \n",
    "result = json.loads(response.read())\n",
    "result"
   ]
  },
  {
   "cell_type": "code",
   "execution_count": 42,
   "id": "d996287c-fa90-466a-9e9a-058d9f8c9aa7",
   "metadata": {},
   "outputs": [
    {
     "data": {
      "text/plain": [
       "{'iss_position': {'latitude': '9.2485', 'longitude': '-119.8803'},\n",
       " 'message': 'success',\n",
       " 'timestamp': 1657596067}"
      ]
     },
     "execution_count": 42,
     "metadata": {},
     "output_type": "execute_result"
    }
   ],
   "source": [
    "url = \"http://api.open-notify.org/iss-now.json\"\n",
    "response = urllib.request.urlopen(url) \n",
    "result = json.loads(response.read())\n",
    "result"
   ]
  },
  {
   "cell_type": "code",
   "execution_count": 43,
   "id": "4e68f0e7-38a8-437a-852b-ed2910747e23",
   "metadata": {},
   "outputs": [
    {
     "data": {
      "text/plain": [
       "{'iss_position': {'latitude': '9.5005', 'longitude': '-119.6948'},\n",
       " 'message': 'success',\n",
       " 'timestamp': 1657596072}"
      ]
     },
     "execution_count": 43,
     "metadata": {},
     "output_type": "execute_result"
    }
   ],
   "source": [
    "url = \"http://api.open-notify.org/iss-now.json\"\n",
    "response = urllib.request.urlopen(url) \n",
    "result = json.loads(response.read())\n",
    "result"
   ]
  },
  {
   "cell_type": "code",
   "execution_count": 44,
   "id": "b59e1c1b-6261-440a-8838-fe9240f5bff3",
   "metadata": {},
   "outputs": [
    {
     "data": {
      "text/plain": [
       "{'iss_position': {'latitude': '9.7523', 'longitude': '-119.5089'},\n",
       " 'message': 'success',\n",
       " 'timestamp': 1657596077}"
      ]
     },
     "execution_count": 44,
     "metadata": {},
     "output_type": "execute_result"
    }
   ],
   "source": [
    "url = \"http://api.open-notify.org/iss-now.json\"\n",
    "response = urllib.request.urlopen(url) \n",
    "result = json.loads(response.read())\n",
    "result"
   ]
  },
  {
   "cell_type": "code",
   "execution_count": 45,
   "id": "f71835a7-a767-41f7-a2bc-1cbc9476be37",
   "metadata": {},
   "outputs": [
    {
     "data": {
      "text/plain": [
       "{'iss_position': {'latitude': '10.0040', 'longitude': '-119.3228'},\n",
       " 'message': 'success',\n",
       " 'timestamp': 1657596082}"
      ]
     },
     "execution_count": 45,
     "metadata": {},
     "output_type": "execute_result"
    }
   ],
   "source": [
    "url = \"http://api.open-notify.org/iss-now.json\"\n",
    "response = urllib.request.urlopen(url) \n",
    "result = json.loads(response.read())\n",
    "result"
   ]
  },
  {
   "cell_type": "code",
   "execution_count": 46,
   "id": "30efa82d-0b20-4ebc-9a3c-c553650e1fd9",
   "metadata": {},
   "outputs": [
    {
     "data": {
      "text/plain": [
       "{'iss_position': {'latitude': '10.2305', 'longitude': '-119.1550'},\n",
       " 'message': 'success',\n",
       " 'timestamp': 1657596087}"
      ]
     },
     "execution_count": 46,
     "metadata": {},
     "output_type": "execute_result"
    }
   ],
   "source": [
    "url = \"http://api.open-notify.org/iss-now.json\"\n",
    "response = urllib.request.urlopen(url) \n",
    "result = json.loads(response.read())\n",
    "result"
   ]
  },
  {
   "cell_type": "code",
   "execution_count": 47,
   "id": "3af3690c-0913-40a0-b9d7-0b60be729683",
   "metadata": {},
   "outputs": [
    {
     "data": {
      "text/plain": [
       "{'iss_position': {'latitude': '10.5071', 'longitude': '-118.9495'},\n",
       " 'message': 'success',\n",
       " 'timestamp': 1657596092}"
      ]
     },
     "execution_count": 47,
     "metadata": {},
     "output_type": "execute_result"
    }
   ],
   "source": [
    "url = \"http://api.open-notify.org/iss-now.json\"\n",
    "response = urllib.request.urlopen(url) \n",
    "result = json.loads(response.read())\n",
    "result"
   ]
  },
  {
   "cell_type": "code",
   "execution_count": 48,
   "id": "8949efd7-5cf3-475a-8c06-1a8e50b41525",
   "metadata": {},
   "outputs": [
    {
     "data": {
      "text/plain": [
       "{'iss_position': {'latitude': '10.7584', 'longitude': '-118.7623'},\n",
       " 'message': 'success',\n",
       " 'timestamp': 1657596097}"
      ]
     },
     "execution_count": 48,
     "metadata": {},
     "output_type": "execute_result"
    }
   ],
   "source": [
    "url = \"http://api.open-notify.org/iss-now.json\"\n",
    "response = urllib.request.urlopen(url) \n",
    "result = json.loads(response.read())\n",
    "result"
   ]
  },
  {
   "cell_type": "code",
   "execution_count": 49,
   "id": "9fd7b0bd-a237-40c8-ab38-c7577aafb505",
   "metadata": {},
   "outputs": [
    {
     "data": {
      "text/plain": [
       "{'iss_position': {'latitude': '10.9845', 'longitude': '-118.5936'},\n",
       " 'message': 'success',\n",
       " 'timestamp': 1657596102}"
      ]
     },
     "execution_count": 49,
     "metadata": {},
     "output_type": "execute_result"
    }
   ],
   "source": [
    "url = \"http://api.open-notify.org/iss-now.json\"\n",
    "response = urllib.request.urlopen(url) \n",
    "result = json.loads(response.read())\n",
    "result"
   ]
  },
  {
   "cell_type": "code",
   "execution_count": 50,
   "id": "41a33559-2f7b-4088-ba92-5be35df38c15",
   "metadata": {},
   "outputs": [
    {
     "data": {
      "text/plain": [
       "{'iss_position': {'latitude': '11.2606', 'longitude': '-118.3870'},\n",
       " 'message': 'success',\n",
       " 'timestamp': 1657596107}"
      ]
     },
     "execution_count": 50,
     "metadata": {},
     "output_type": "execute_result"
    }
   ],
   "source": [
    "url = \"http://api.open-notify.org/iss-now.json\"\n",
    "response = urllib.request.urlopen(url) \n",
    "result = json.loads(response.read())\n",
    "result"
   ]
  },
  {
   "cell_type": "code",
   "execution_count": 51,
   "id": "23c239ee-6d8d-4a3e-8308-986a63e224a3",
   "metadata": {},
   "outputs": [
    {
     "data": {
      "text/plain": [
       "{'iss_position': {'latitude': '11.4865', 'longitude': '-118.2176'},\n",
       " 'message': 'success',\n",
       " 'timestamp': 1657596112}"
      ]
     },
     "execution_count": 51,
     "metadata": {},
     "output_type": "execute_result"
    }
   ],
   "source": [
    "url = \"http://api.open-notify.org/iss-now.json\"\n",
    "response = urllib.request.urlopen(url) \n",
    "result = json.loads(response.read())\n",
    "result"
   ]
  },
  {
   "cell_type": "code",
   "execution_count": 52,
   "id": "f37d6379-a37f-47e8-9441-f3bf4d15ba6d",
   "metadata": {},
   "outputs": [
    {
     "data": {
      "text/plain": [
       "{'iss_position': {'latitude': '11.7372', 'longitude': '-118.0291'},\n",
       " 'message': 'success',\n",
       " 'timestamp': 1657596117}"
      ]
     },
     "execution_count": 52,
     "metadata": {},
     "output_type": "execute_result"
    }
   ],
   "source": [
    "url = \"http://api.open-notify.org/iss-now.json\"\n",
    "response = urllib.request.urlopen(url) \n",
    "result = json.loads(response.read())\n",
    "result"
   ]
  },
  {
   "cell_type": "code",
   "execution_count": 53,
   "id": "713b4684-bc08-4000-978b-f11bd97e9635",
   "metadata": {},
   "outputs": [
    {
     "data": {
      "text/plain": [
       "{'iss_position': {'latitude': '12.0129', 'longitude': '-117.8212'},\n",
       " 'message': 'success',\n",
       " 'timestamp': 1657596122}"
      ]
     },
     "execution_count": 53,
     "metadata": {},
     "output_type": "execute_result"
    }
   ],
   "source": [
    "url = \"http://api.open-notify.org/iss-now.json\"\n",
    "response = urllib.request.urlopen(url) \n",
    "result = json.loads(response.read())\n",
    "result"
   ]
  },
  {
   "cell_type": "code",
   "execution_count": 54,
   "id": "c32bec51-d9bc-48e1-8e71-b5f9089428b1",
   "metadata": {},
   "outputs": [
    {
     "data": {
      "text/plain": [
       "{'iss_position': {'latitude': '12.2384', 'longitude': '-117.6508'},\n",
       " 'message': 'success',\n",
       " 'timestamp': 1657596127}"
      ]
     },
     "execution_count": 54,
     "metadata": {},
     "output_type": "execute_result"
    }
   ],
   "source": [
    "url = \"http://api.open-notify.org/iss-now.json\"\n",
    "response = urllib.request.urlopen(url) \n",
    "result = json.loads(response.read())\n",
    "result"
   ]
  },
  {
   "cell_type": "code",
   "execution_count": 55,
   "id": "3d2b941e-2a18-4471-8e5b-d58104e4863c",
   "metadata": {},
   "outputs": [
    {
     "data": {
      "text/plain": [
       "{'iss_position': {'latitude': '12.5137', 'longitude': '-117.4420'},\n",
       " 'message': 'success',\n",
       " 'timestamp': 1657596132}"
      ]
     },
     "execution_count": 55,
     "metadata": {},
     "output_type": "execute_result"
    }
   ],
   "source": [
    "url = \"http://api.open-notify.org/iss-now.json\"\n",
    "response = urllib.request.urlopen(url) \n",
    "result = json.loads(response.read())\n",
    "result"
   ]
  },
  {
   "cell_type": "code",
   "execution_count": 56,
   "id": "cc8e9241-68e2-43ef-b792-53baa36775ad",
   "metadata": {},
   "outputs": [
    {
     "data": {
      "text/plain": [
       "{'iss_position': {'latitude': '12.7638', 'longitude': '-117.2518'},\n",
       " 'message': 'success',\n",
       " 'timestamp': 1657596137}"
      ]
     },
     "execution_count": 56,
     "metadata": {},
     "output_type": "execute_result"
    }
   ],
   "source": [
    "url = \"http://api.open-notify.org/iss-now.json\"\n",
    "response = urllib.request.urlopen(url) \n",
    "result = json.loads(response.read())\n",
    "result"
   ]
  },
  {
   "cell_type": "code",
   "execution_count": 57,
   "id": "e7825d4e-32bf-46bd-b056-7b12c78fa232",
   "metadata": {},
   "outputs": [
    {
     "data": {
      "text/plain": [
       "{'iss_position': {'latitude': '13.0138', 'longitude': '-117.0612'},\n",
       " 'message': 'success',\n",
       " 'timestamp': 1657596142}"
      ]
     },
     "execution_count": 57,
     "metadata": {},
     "output_type": "execute_result"
    }
   ],
   "source": [
    "url = \"http://api.open-notify.org/iss-now.json\"\n",
    "response = urllib.request.urlopen(url) \n",
    "result = json.loads(response.read())\n",
    "result"
   ]
  },
  {
   "cell_type": "code",
   "execution_count": 58,
   "id": "0b732736-a02b-4c41-8529-00a175d961bd",
   "metadata": {},
   "outputs": [
    {
     "data": {
      "text/plain": [
       "{'iss_position': {'latitude': '13.2636', 'longitude': '-116.8702'},\n",
       " 'message': 'success',\n",
       " 'timestamp': 1657596147}"
      ]
     },
     "execution_count": 58,
     "metadata": {},
     "output_type": "execute_result"
    }
   ],
   "source": [
    "url = \"http://api.open-notify.org/iss-now.json\"\n",
    "response = urllib.request.urlopen(url) \n",
    "result = json.loads(response.read())\n",
    "result"
   ]
  },
  {
   "cell_type": "code",
   "execution_count": 59,
   "id": "9b6fa03c-5eef-4e43-aefd-b14ac6124ba4",
   "metadata": {},
   "outputs": [
    {
     "data": {
      "text/plain": [
       "{'iss_position': {'latitude': '13.5132', 'longitude': '-116.6787'},\n",
       " 'message': 'success',\n",
       " 'timestamp': 1657596152}"
      ]
     },
     "execution_count": 59,
     "metadata": {},
     "output_type": "execute_result"
    }
   ],
   "source": [
    "url = \"http://api.open-notify.org/iss-now.json\"\n",
    "response = urllib.request.urlopen(url) \n",
    "result = json.loads(response.read())\n",
    "result"
   ]
  },
  {
   "cell_type": "code",
   "execution_count": 60,
   "id": "8b8926c9-ac4d-4d05-b290-25c668a96720",
   "metadata": {},
   "outputs": [
    {
     "data": {
      "text/plain": [
       "{'iss_position': {'latitude': '13.7377', 'longitude': '-116.5060'},\n",
       " 'message': 'success',\n",
       " 'timestamp': 1657596157}"
      ]
     },
     "execution_count": 60,
     "metadata": {},
     "output_type": "execute_result"
    }
   ],
   "source": [
    "url = \"http://api.open-notify.org/iss-now.json\"\n",
    "response = urllib.request.urlopen(url) \n",
    "result = json.loads(response.read())\n",
    "result"
   ]
  },
  {
   "cell_type": "code",
   "execution_count": 61,
   "id": "37d0496f-7bbc-4639-8b9f-d4726c398c0e",
   "metadata": {},
   "outputs": [
    {
     "data": {
      "text/plain": [
       "{'iss_position': {'latitude': '13.9870', 'longitude': '-116.3137'},\n",
       " 'message': 'success',\n",
       " 'timestamp': 1657596162}"
      ]
     },
     "execution_count": 61,
     "metadata": {},
     "output_type": "execute_result"
    }
   ],
   "source": [
    "url = \"http://api.open-notify.org/iss-now.json\"\n",
    "response = urllib.request.urlopen(url) \n",
    "result = json.loads(response.read())\n",
    "result"
   ]
  },
  {
   "cell_type": "code",
   "execution_count": 62,
   "id": "829623ba-147f-4780-b671-ba6e88112c27",
   "metadata": {},
   "outputs": [
    {
     "data": {
      "text/plain": [
       "{'iss_position': {'latitude': '14.2361', 'longitude': '-116.1209'},\n",
       " 'message': 'success',\n",
       " 'timestamp': 1657596167}"
      ]
     },
     "execution_count": 62,
     "metadata": {},
     "output_type": "execute_result"
    }
   ],
   "source": [
    "url = \"http://api.open-notify.org/iss-now.json\"\n",
    "response = urllib.request.urlopen(url) \n",
    "result = json.loads(response.read())\n",
    "result"
   ]
  },
  {
   "cell_type": "code",
   "execution_count": 63,
   "id": "16f044c9-d3fa-4b26-9c39-15f4769f9b17",
   "metadata": {},
   "outputs": [
    {
     "data": {
      "text/plain": [
       "{'iss_position': {'latitude': '14.4849', 'longitude': '-115.9276'},\n",
       " 'message': 'success',\n",
       " 'timestamp': 1657596172}"
      ]
     },
     "execution_count": 63,
     "metadata": {},
     "output_type": "execute_result"
    }
   ],
   "source": [
    "url = \"http://api.open-notify.org/iss-now.json\"\n",
    "response = urllib.request.urlopen(url) \n",
    "result = json.loads(response.read())\n",
    "result"
   ]
  },
  {
   "cell_type": "code",
   "execution_count": 64,
   "id": "370fcd7d-7d96-4aef-ab8a-cda2e2567739",
   "metadata": {},
   "outputs": [
    {
     "data": {
      "text/plain": [
       "{'iss_position': {'latitude': '14.7337', 'longitude': '-115.7339'},\n",
       " 'message': 'success',\n",
       " 'timestamp': 1657596177}"
      ]
     },
     "execution_count": 64,
     "metadata": {},
     "output_type": "execute_result"
    }
   ],
   "source": [
    "url = \"http://api.open-notify.org/iss-now.json\"\n",
    "response = urllib.request.urlopen(url) \n",
    "result = json.loads(response.read())\n",
    "result"
   ]
  },
  {
   "cell_type": "code",
   "execution_count": 65,
   "id": "09d84761-1694-4908-a57e-8ced3e6e2f66",
   "metadata": {},
   "outputs": [
    {
     "data": {
      "text/plain": [
       "{'iss_position': {'latitude': '14.9823', 'longitude': '-115.5395'},\n",
       " 'message': 'success',\n",
       " 'timestamp': 1657596182}"
      ]
     },
     "execution_count": 65,
     "metadata": {},
     "output_type": "execute_result"
    }
   ],
   "source": [
    "url = \"http://api.open-notify.org/iss-now.json\"\n",
    "response = urllib.request.urlopen(url) \n",
    "result = json.loads(response.read())\n",
    "result"
   ]
  },
  {
   "cell_type": "code",
   "execution_count": 66,
   "id": "321b50eb-15f8-43a1-b8a3-c4206c021ea2",
   "metadata": {},
   "outputs": [
    {
     "data": {
      "text/plain": [
       "{'iss_position': {'latitude': '15.2306', 'longitude': '-115.3448'},\n",
       " 'message': 'success',\n",
       " 'timestamp': 1657596187}"
      ]
     },
     "execution_count": 66,
     "metadata": {},
     "output_type": "execute_result"
    }
   ],
   "source": [
    "url = \"http://api.open-notify.org/iss-now.json\"\n",
    "response = urllib.request.urlopen(url) \n",
    "result = json.loads(response.read())\n",
    "result"
   ]
  },
  {
   "cell_type": "code",
   "execution_count": 67,
   "id": "56381b40-2888-454b-92ec-39969b388650",
   "metadata": {},
   "outputs": [
    {
     "data": {
      "text/plain": [
       "{'iss_position': {'latitude': '15.5035', 'longitude': '-115.1300'},\n",
       " 'message': 'success',\n",
       " 'timestamp': 1657596192}"
      ]
     },
     "execution_count": 67,
     "metadata": {},
     "output_type": "execute_result"
    }
   ],
   "source": [
    "url = \"http://api.open-notify.org/iss-now.json\"\n",
    "response = urllib.request.urlopen(url) \n",
    "result = json.loads(response.read())\n",
    "result"
   ]
  },
  {
   "cell_type": "code",
   "execution_count": 68,
   "id": "640a39e7-11ca-4db4-8957-db2631a88856",
   "metadata": {},
   "outputs": [
    {
     "data": {
      "text/plain": [
       "{'iss_position': {'latitude': '15.7266', 'longitude': '-114.9537'},\n",
       " 'message': 'success',\n",
       " 'timestamp': 1657596197}"
      ]
     },
     "execution_count": 68,
     "metadata": {},
     "output_type": "execute_result"
    }
   ],
   "source": [
    "url = \"http://api.open-notify.org/iss-now.json\"\n",
    "response = urllib.request.urlopen(url) \n",
    "result = json.loads(response.read())\n",
    "result"
   ]
  },
  {
   "cell_type": "code",
   "execution_count": 69,
   "id": "d1ca68cc-950b-4b40-8c0d-64d2acd4422e",
   "metadata": {},
   "outputs": [
    {
     "data": {
      "text/plain": [
       "{'iss_position': {'latitude': '15.9744', 'longitude': '-114.7573'},\n",
       " 'message': 'success',\n",
       " 'timestamp': 1657596202}"
      ]
     },
     "execution_count": 69,
     "metadata": {},
     "output_type": "execute_result"
    }
   ],
   "source": [
    "url = \"http://api.open-notify.org/iss-now.json\"\n",
    "response = urllib.request.urlopen(url) \n",
    "result = json.loads(response.read())\n",
    "result"
   ]
  },
  {
   "cell_type": "code",
   "execution_count": 70,
   "id": "9418d9a7-6d5e-4b06-9e81-bce69266f704",
   "metadata": {},
   "outputs": [
    {
     "data": {
      "text/plain": [
       "{'iss_position': {'latitude': '16.2219', 'longitude': '-114.5605'},\n",
       " 'message': 'success',\n",
       " 'timestamp': 1657596207}"
      ]
     },
     "execution_count": 70,
     "metadata": {},
     "output_type": "execute_result"
    }
   ],
   "source": [
    "url = \"http://api.open-notify.org/iss-now.json\"\n",
    "response = urllib.request.urlopen(url) \n",
    "result = json.loads(response.read())\n",
    "result"
   ]
  },
  {
   "cell_type": "code",
   "execution_count": 71,
   "id": "31b52c5e-bb1d-4e06-aaef-223c2155cbc0",
   "metadata": {},
   "outputs": [
    {
     "data": {
      "text/plain": [
       "{'iss_position': {'latitude': '16.4692', 'longitude': '-114.3630'},\n",
       " 'message': 'success',\n",
       " 'timestamp': 1657596212}"
      ]
     },
     "execution_count": 71,
     "metadata": {},
     "output_type": "execute_result"
    }
   ],
   "source": [
    "url = \"http://api.open-notify.org/iss-now.json\"\n",
    "response = urllib.request.urlopen(url) \n",
    "result = json.loads(response.read())\n",
    "result"
   ]
  },
  {
   "cell_type": "code",
   "execution_count": 72,
   "id": "4c8b44c4-237a-4c6c-8dba-4e48c932a5a7",
   "metadata": {},
   "outputs": [
    {
     "data": {
      "text/plain": [
       "{'iss_position': {'latitude': '16.7162', 'longitude': '-114.1651'},\n",
       " 'message': 'success',\n",
       " 'timestamp': 1657596217}"
      ]
     },
     "execution_count": 72,
     "metadata": {},
     "output_type": "execute_result"
    }
   ],
   "source": [
    "url = \"http://api.open-notify.org/iss-now.json\"\n",
    "response = urllib.request.urlopen(url) \n",
    "result = json.loads(response.read())\n",
    "result"
   ]
  },
  {
   "cell_type": "code",
   "execution_count": 73,
   "id": "222298ca-6804-4633-b6e2-75f5214b6ec3",
   "metadata": {},
   "outputs": [
    {
     "data": {
      "text/plain": [
       "{'iss_position': {'latitude': '16.9629', 'longitude': '-113.9666'},\n",
       " 'message': 'success',\n",
       " 'timestamp': 1657596222}"
      ]
     },
     "execution_count": 73,
     "metadata": {},
     "output_type": "execute_result"
    }
   ],
   "source": [
    "url = \"http://api.open-notify.org/iss-now.json\"\n",
    "response = urllib.request.urlopen(url) \n",
    "result = json.loads(response.read())\n",
    "result"
   ]
  },
  {
   "cell_type": "code",
   "execution_count": 74,
   "id": "3a4246b5-9d97-4b12-8e09-e4df8882361c",
   "metadata": {},
   "outputs": [
    {
     "data": {
      "text/plain": [
       "{'iss_position': {'latitude': '17.2342', 'longitude': '-113.7475'},\n",
       " 'message': 'success',\n",
       " 'timestamp': 1657596228}"
      ]
     },
     "execution_count": 74,
     "metadata": {},
     "output_type": "execute_result"
    }
   ],
   "source": [
    "url = \"http://api.open-notify.org/iss-now.json\"\n",
    "response = urllib.request.urlopen(url) \n",
    "result = json.loads(response.read())\n",
    "result"
   ]
  },
  {
   "cell_type": "code",
   "execution_count": 75,
   "id": "6b8d12d6-35d2-4500-a9fa-de0917be4440",
   "metadata": {},
   "outputs": [
    {
     "data": {
      "text/plain": [
       "{'iss_position': {'latitude': '17.4558', 'longitude': '-113.5677'},\n",
       " 'message': 'success',\n",
       " 'timestamp': 1657596232}"
      ]
     },
     "execution_count": 75,
     "metadata": {},
     "output_type": "execute_result"
    }
   ],
   "source": [
    "url = \"http://api.open-notify.org/iss-now.json\"\n",
    "response = urllib.request.urlopen(url) \n",
    "result = json.loads(response.read())\n",
    "result"
   ]
  },
  {
   "cell_type": "code",
   "execution_count": 76,
   "id": "614ebbaf-523f-47bc-86f4-f414be0ff7bd",
   "metadata": {},
   "outputs": [
    {
     "data": {
      "text/plain": [
       "{'iss_position': {'latitude': '17.7018', 'longitude': '-113.3675'},\n",
       " 'message': 'success',\n",
       " 'timestamp': 1657596237}"
      ]
     },
     "execution_count": 76,
     "metadata": {},
     "output_type": "execute_result"
    }
   ],
   "source": [
    "url = \"http://api.open-notify.org/iss-now.json\"\n",
    "response = urllib.request.urlopen(url) \n",
    "result = json.loads(response.read())\n",
    "result"
   ]
  },
  {
   "cell_type": "code",
   "execution_count": 77,
   "id": "f945e86c-040a-47ff-b6d3-6ac88cb2d1e3",
   "metadata": {},
   "outputs": [
    {
     "data": {
      "text/plain": [
       "{'iss_position': {'latitude': '17.9723', 'longitude': '-113.1464'},\n",
       " 'message': 'success',\n",
       " 'timestamp': 1657596243}"
      ]
     },
     "execution_count": 77,
     "metadata": {},
     "output_type": "execute_result"
    }
   ],
   "source": [
    "url = \"http://api.open-notify.org/iss-now.json\"\n",
    "response = urllib.request.urlopen(url) \n",
    "result = json.loads(response.read())\n",
    "result"
   ]
  },
  {
   "cell_type": "code",
   "execution_count": 78,
   "id": "91f39833-1d3d-4fd4-af77-66a35f6e538c",
   "metadata": {},
   "outputs": [
    {
     "data": {
      "text/plain": [
       "{'iss_position': {'latitude': '18.1935', 'longitude': '-112.9649'},\n",
       " 'message': 'success',\n",
       " 'timestamp': 1657596247}"
      ]
     },
     "execution_count": 78,
     "metadata": {},
     "output_type": "execute_result"
    }
   ],
   "source": [
    "url = \"http://api.open-notify.org/iss-now.json\"\n",
    "response = urllib.request.urlopen(url) \n",
    "result = json.loads(response.read())\n",
    "result"
   ]
  },
  {
   "cell_type": "code",
   "execution_count": 79,
   "id": "9da0986a-5f6e-4e78-9e42-8a0b350a006b",
   "metadata": {},
   "outputs": [
    {
     "data": {
      "text/plain": [
       "{'iss_position': {'latitude': '18.4388', 'longitude': '-112.7627'},\n",
       " 'message': 'success',\n",
       " 'timestamp': 1657596252}"
      ]
     },
     "execution_count": 79,
     "metadata": {},
     "output_type": "execute_result"
    }
   ],
   "source": [
    "url = \"http://api.open-notify.org/iss-now.json\"\n",
    "response = urllib.request.urlopen(url) \n",
    "result = json.loads(response.read())\n",
    "result"
   ]
  },
  {
   "cell_type": "code",
   "execution_count": 80,
   "id": "a9764369-eab8-42cb-b59a-ea0978e15570",
   "metadata": {},
   "outputs": [
    {
     "data": {
      "text/plain": [
       "{'iss_position': {'latitude': '18.6839', 'longitude': '-112.5599'},\n",
       " 'message': 'success',\n",
       " 'timestamp': 1657596257}"
      ]
     },
     "execution_count": 80,
     "metadata": {},
     "output_type": "execute_result"
    }
   ],
   "source": [
    "url = \"http://api.open-notify.org/iss-now.json\"\n",
    "response = urllib.request.urlopen(url) \n",
    "result = json.loads(response.read())\n",
    "result"
   ]
  },
  {
   "cell_type": "code",
   "execution_count": 81,
   "id": "762373c2-ffc1-4beb-95ba-2e8769dd65ae",
   "metadata": {},
   "outputs": [
    {
     "data": {
      "text/plain": [
       "{'iss_position': {'latitude': '18.9286', 'longitude': '-112.3565'},\n",
       " 'message': 'success',\n",
       " 'timestamp': 1657596262}"
      ]
     },
     "execution_count": 81,
     "metadata": {},
     "output_type": "execute_result"
    }
   ],
   "source": [
    "url = \"http://api.open-notify.org/iss-now.json\"\n",
    "response = urllib.request.urlopen(url) \n",
    "result = json.loads(response.read())\n",
    "result"
   ]
  },
  {
   "cell_type": "code",
   "execution_count": 82,
   "id": "1a20a3a6-c1a7-4fe9-afd6-4dad6dff8243",
   "metadata": {},
   "outputs": [
    {
     "data": {
      "text/plain": [
       "{'iss_position': {'latitude': '19.1731', 'longitude': '-112.1524'},\n",
       " 'message': 'success',\n",
       " 'timestamp': 1657596267}"
      ]
     },
     "execution_count": 82,
     "metadata": {},
     "output_type": "execute_result"
    }
   ],
   "source": [
    "url = \"http://api.open-notify.org/iss-now.json\"\n",
    "response = urllib.request.urlopen(url) \n",
    "result = json.loads(response.read())\n",
    "result"
   ]
  },
  {
   "cell_type": "code",
   "execution_count": 83,
   "id": "c089050d-78eb-4c65-843a-ff4d397d9020",
   "metadata": {},
   "outputs": [
    {
     "data": {
      "text/plain": [
       "{'iss_position': {'latitude': '19.4418', 'longitude': '-111.9271'},\n",
       " 'message': 'success',\n",
       " 'timestamp': 1657596273}"
      ]
     },
     "execution_count": 83,
     "metadata": {},
     "output_type": "execute_result"
    }
   ],
   "source": [
    "url = \"http://api.open-notify.org/iss-now.json\"\n",
    "response = urllib.request.urlopen(url) \n",
    "result = json.loads(response.read())\n",
    "result"
   ]
  },
  {
   "cell_type": "code",
   "execution_count": 84,
   "id": "ee62e6db-b795-4971-b81c-1e85c2f2f5f7",
   "metadata": {},
   "outputs": [
    {
     "data": {
      "text/plain": [
       "{'iss_position': {'latitude': '19.6858', 'longitude': '-111.7215'},\n",
       " 'message': 'success',\n",
       " 'timestamp': 1657596278}"
      ]
     },
     "execution_count": 84,
     "metadata": {},
     "output_type": "execute_result"
    }
   ],
   "source": [
    "url = \"http://api.open-notify.org/iss-now.json\"\n",
    "response = urllib.request.urlopen(url) \n",
    "result = json.loads(response.read())\n",
    "result"
   ]
  },
  {
   "cell_type": "code",
   "execution_count": 85,
   "id": "a194b6ee-4851-47b8-bdb7-51c14ddd57d9",
   "metadata": {},
   "outputs": [
    {
     "data": {
      "text/plain": [
       "{'iss_position': {'latitude': '19.9050', 'longitude': '-111.5360'},\n",
       " 'message': 'success',\n",
       " 'timestamp': 1657596282}"
      ]
     },
     "execution_count": 85,
     "metadata": {},
     "output_type": "execute_result"
    }
   ],
   "source": [
    "url = \"http://api.open-notify.org/iss-now.json\"\n",
    "response = urllib.request.urlopen(url) \n",
    "result = json.loads(response.read())\n",
    "result"
   ]
  },
  {
   "cell_type": "code",
   "execution_count": 86,
   "id": "3a840438-fa61-4b45-9d55-ff5a64b8508a",
   "metadata": {},
   "outputs": [
    {
     "data": {
      "text/plain": [
       "{'iss_position': {'latitude': '20.1484', 'longitude': '-111.3291'},\n",
       " 'message': 'success',\n",
       " 'timestamp': 1657596287}"
      ]
     },
     "execution_count": 86,
     "metadata": {},
     "output_type": "execute_result"
    }
   ],
   "source": [
    "url = \"http://api.open-notify.org/iss-now.json\"\n",
    "response = urllib.request.urlopen(url) \n",
    "result = json.loads(response.read())\n",
    "result"
   ]
  },
  {
   "cell_type": "code",
   "execution_count": 87,
   "id": "778826ce-9786-402b-b9cf-548409277f2a",
   "metadata": {},
   "outputs": [
    {
     "data": {
      "text/plain": [
       "{'iss_position': {'latitude': '20.4644', 'longitude': '-111.0592'},\n",
       " 'message': 'success',\n",
       " 'timestamp': 1657596294}"
      ]
     },
     "execution_count": 87,
     "metadata": {},
     "output_type": "execute_result"
    }
   ],
   "source": [
    "url = \"http://api.open-notify.org/iss-now.json\"\n",
    "response = urllib.request.urlopen(url) \n",
    "result = json.loads(response.read())\n",
    "result"
   ]
  },
  {
   "cell_type": "code",
   "execution_count": 88,
   "id": "816cb386-0779-4cca-bec8-babc081413ef",
   "metadata": {},
   "outputs": [
    {
     "data": {
      "text/plain": [
       "{'iss_position': {'latitude': '20.6586', 'longitude': '-110.8924'},\n",
       " 'message': 'success',\n",
       " 'timestamp': 1657596298}"
      ]
     },
     "execution_count": 88,
     "metadata": {},
     "output_type": "execute_result"
    }
   ],
   "source": [
    "url = \"http://api.open-notify.org/iss-now.json\"\n",
    "response = urllib.request.urlopen(url) \n",
    "result = json.loads(response.read())\n",
    "result"
   ]
  },
  {
   "cell_type": "code",
   "execution_count": 89,
   "id": "cafb279d-fcf7-4307-a0a4-c645f2156b2d",
   "metadata": {},
   "outputs": [
    {
     "data": {
      "text/plain": [
       "{'iss_position': {'latitude': '20.8769', 'longitude': '-110.7042'},\n",
       " 'message': 'success',\n",
       " 'timestamp': 1657596302}"
      ]
     },
     "execution_count": 89,
     "metadata": {},
     "output_type": "execute_result"
    }
   ],
   "source": [
    "url = \"http://api.open-notify.org/iss-now.json\"\n",
    "response = urllib.request.urlopen(url) \n",
    "result = json.loads(response.read())\n",
    "result"
   ]
  },
  {
   "cell_type": "code",
   "execution_count": 90,
   "id": "37b2e662-ebf4-4bab-b9f9-dd8e466a7c75",
   "metadata": {},
   "outputs": [
    {
     "data": {
      "text/plain": [
       "{'iss_position': {'latitude': '21.1191', 'longitude': '-110.4944'},\n",
       " 'message': 'success',\n",
       " 'timestamp': 1657596307}"
      ]
     },
     "execution_count": 90,
     "metadata": {},
     "output_type": "execute_result"
    }
   ],
   "source": [
    "url = \"http://api.open-notify.org/iss-now.json\"\n",
    "response = urllib.request.urlopen(url) \n",
    "result = json.loads(response.read())\n",
    "result"
   ]
  },
  {
   "cell_type": "code",
   "execution_count": 91,
   "id": "91f63188-5b94-4692-af2b-4b28801b6198",
   "metadata": {},
   "outputs": [
    {
     "data": {
      "text/plain": [
       "{'iss_position': {'latitude': '21.3851', 'longitude': '-110.2628'},\n",
       " 'message': 'success',\n",
       " 'timestamp': 1657596313}"
      ]
     },
     "execution_count": 91,
     "metadata": {},
     "output_type": "execute_result"
    }
   ],
   "source": [
    "url = \"http://api.open-notify.org/iss-now.json\"\n",
    "response = urllib.request.urlopen(url) \n",
    "result = json.loads(response.read())\n",
    "result"
   ]
  },
  {
   "cell_type": "code",
   "execution_count": 92,
   "id": "670b9f74-4930-4b4d-a9d0-125e1fbc5ce5",
   "metadata": {},
   "outputs": [
    {
     "data": {
      "text/plain": [
       "{'iss_position': {'latitude': '21.6508', 'longitude': '-110.0302'},\n",
       " 'message': 'success',\n",
       " 'timestamp': 1657596318}"
      ]
     },
     "execution_count": 92,
     "metadata": {},
     "output_type": "execute_result"
    }
   ],
   "source": [
    "url = \"http://api.open-notify.org/iss-now.json\"\n",
    "response = urllib.request.urlopen(url) \n",
    "result = json.loads(response.read())\n",
    "result"
   ]
  },
  {
   "cell_type": "code",
   "execution_count": 93,
   "id": "cc50d9fd-0601-427a-ae1e-7c87ca46e3cd",
   "metadata": {},
   "outputs": [
    {
     "data": {
      "text/plain": [
       "{'iss_position': {'latitude': '21.8680', 'longitude': '-109.8392'},\n",
       " 'message': 'success',\n",
       " 'timestamp': 1657596323}"
      ]
     },
     "execution_count": 93,
     "metadata": {},
     "output_type": "execute_result"
    }
   ],
   "source": [
    "url = \"http://api.open-notify.org/iss-now.json\"\n",
    "response = urllib.request.urlopen(url) \n",
    "result = json.loads(response.read())\n",
    "result"
   ]
  },
  {
   "cell_type": "code",
   "execution_count": 94,
   "id": "fa36ed77-b791-4897-908b-74988bbca66f",
   "metadata": {},
   "outputs": [
    {
     "data": {
      "text/plain": [
       "{'iss_position': {'latitude': '22.0848', 'longitude': '-109.6476'},\n",
       " 'message': 'success',\n",
       " 'timestamp': 1657596327}"
      ]
     },
     "execution_count": 94,
     "metadata": {},
     "output_type": "execute_result"
    }
   ],
   "source": [
    "url = \"http://api.open-notify.org/iss-now.json\"\n",
    "response = urllib.request.urlopen(url) \n",
    "result = json.loads(response.read())\n",
    "result"
   ]
  },
  {
   "cell_type": "code",
   "execution_count": 95,
   "id": "2f71c83c-adec-4885-9265-38f5367a3569",
   "metadata": {},
   "outputs": [
    {
     "data": {
      "text/plain": [
       "{'iss_position': {'latitude': '22.3254', 'longitude': '-109.4339'},\n",
       " 'message': 'success',\n",
       " 'timestamp': 1657596332}"
      ]
     },
     "execution_count": 95,
     "metadata": {},
     "output_type": "execute_result"
    }
   ],
   "source": [
    "url = \"http://api.open-notify.org/iss-now.json\"\n",
    "response = urllib.request.urlopen(url) \n",
    "result = json.loads(response.read())\n",
    "result"
   ]
  },
  {
   "cell_type": "code",
   "execution_count": 96,
   "id": "5893a82a-5f11-4891-922e-6923ba259523",
   "metadata": {},
   "outputs": [
    {
     "data": {
      "text/plain": [
       "{'iss_position': {'latitude': '22.5658', 'longitude': '-109.2193'},\n",
       " 'message': 'success',\n",
       " 'timestamp': 1657596337}"
      ]
     },
     "execution_count": 96,
     "metadata": {},
     "output_type": "execute_result"
    }
   ],
   "source": [
    "url = \"http://api.open-notify.org/iss-now.json\"\n",
    "response = urllib.request.urlopen(url) \n",
    "result = json.loads(response.read())\n",
    "result"
   ]
  },
  {
   "cell_type": "code",
   "execution_count": 97,
   "id": "0c1f4f8d-83b3-47b5-adab-2d71592defec",
   "metadata": {},
   "outputs": [
    {
     "data": {
      "text/plain": [
       "{'iss_position': {'latitude': '22.7817', 'longitude': '-109.0256'},\n",
       " 'message': 'success',\n",
       " 'timestamp': 1657596342}"
      ]
     },
     "execution_count": 97,
     "metadata": {},
     "output_type": "execute_result"
    }
   ],
   "source": [
    "url = \"http://api.open-notify.org/iss-now.json\"\n",
    "response = urllib.request.urlopen(url) \n",
    "result = json.loads(response.read())\n",
    "result"
   ]
  },
  {
   "cell_type": "code",
   "execution_count": 98,
   "id": "db1a7545-185f-4ce0-902e-f78c887fcdba",
   "metadata": {},
   "outputs": [
    {
     "data": {
      "text/plain": [
       "{'iss_position': {'latitude': '23.0452', 'longitude': '-108.7879'},\n",
       " 'message': 'success',\n",
       " 'timestamp': 1657596347}"
      ]
     },
     "execution_count": 98,
     "metadata": {},
     "output_type": "execute_result"
    }
   ],
   "source": [
    "url = \"http://api.open-notify.org/iss-now.json\"\n",
    "response = urllib.request.urlopen(url) \n",
    "result = json.loads(response.read())\n",
    "result"
   ]
  },
  {
   "cell_type": "code",
   "execution_count": 99,
   "id": "962574f9-6448-4671-9d98-bfcec15b9002",
   "metadata": {},
   "outputs": [
    {
     "data": {
      "text/plain": [
       "{'iss_position': {'latitude': '23.2844', 'longitude': '-108.5709'},\n",
       " 'message': 'success',\n",
       " 'timestamp': 1657596352}"
      ]
     },
     "execution_count": 99,
     "metadata": {},
     "output_type": "execute_result"
    }
   ],
   "source": [
    "url = \"http://api.open-notify.org/iss-now.json\"\n",
    "response = urllib.request.urlopen(url) \n",
    "result = json.loads(response.read())\n",
    "result"
   ]
  },
  {
   "cell_type": "code",
   "execution_count": 100,
   "id": "3ccd61f0-961e-4f48-8b6b-e90bd96f49fb",
   "metadata": {},
   "outputs": [
    {
     "data": {
      "text/plain": [
       "{'iss_position': {'latitude': '23.5233', 'longitude': '-108.3530'},\n",
       " 'message': 'success',\n",
       " 'timestamp': 1657596357}"
      ]
     },
     "execution_count": 100,
     "metadata": {},
     "output_type": "execute_result"
    }
   ],
   "source": [
    "url = \"http://api.open-notify.org/iss-now.json\"\n",
    "response = urllib.request.urlopen(url) \n",
    "result = json.loads(response.read())\n",
    "result"
   ]
  },
  {
   "cell_type": "code",
   "execution_count": 101,
   "id": "149150fc-2215-44bf-b5fb-6584d009aca4",
   "metadata": {},
   "outputs": [
    {
     "data": {
      "text/plain": [
       "{'iss_position': {'latitude': '23.7380', 'longitude': '-108.1562'},\n",
       " 'message': 'success',\n",
       " 'timestamp': 1657596362}"
      ]
     },
     "execution_count": 101,
     "metadata": {},
     "output_type": "execute_result"
    }
   ],
   "source": [
    "url = \"http://api.open-notify.org/iss-now.json\"\n",
    "response = urllib.request.urlopen(url) \n",
    "result = json.loads(response.read())\n",
    "result"
   ]
  },
  {
   "cell_type": "code",
   "execution_count": 102,
   "id": "61e0e522-a8c9-49bf-ae3c-e266c8fb95f7",
   "metadata": {},
   "outputs": [
    {
     "data": {
      "text/plain": [
       "{'iss_position': {'latitude': '23.9761', 'longitude': '-107.9367'},\n",
       " 'message': 'success',\n",
       " 'timestamp': 1657596367}"
      ]
     },
     "execution_count": 102,
     "metadata": {},
     "output_type": "execute_result"
    }
   ],
   "source": [
    "url = \"http://api.open-notify.org/iss-now.json\"\n",
    "response = urllib.request.urlopen(url) \n",
    "result = json.loads(response.read())\n",
    "result"
   ]
  },
  {
   "cell_type": "code",
   "execution_count": 103,
   "id": "1678fddf-d892-44ab-b8b4-df2249e93296",
   "metadata": {},
   "outputs": [
    {
     "data": {
      "text/plain": [
       "{'iss_position': {'latitude': '24.2138', 'longitude': '-107.7164'},\n",
       " 'message': 'success',\n",
       " 'timestamp': 1657596372}"
      ]
     },
     "execution_count": 103,
     "metadata": {},
     "output_type": "execute_result"
    }
   ],
   "source": [
    "url = \"http://api.open-notify.org/iss-now.json\"\n",
    "response = urllib.request.urlopen(url) \n",
    "result = json.loads(response.read())\n",
    "result"
   ]
  },
  {
   "cell_type": "code",
   "execution_count": 104,
   "id": "d5fefafa-c62e-479e-a8ab-79d5b0563af5",
   "metadata": {},
   "outputs": [
    {
     "data": {
      "text/plain": [
       "{'iss_position': {'latitude': '24.4512', 'longitude': '-107.4950'},\n",
       " 'message': 'success',\n",
       " 'timestamp': 1657596377}"
      ]
     },
     "execution_count": 104,
     "metadata": {},
     "output_type": "execute_result"
    }
   ],
   "source": [
    "url = \"http://api.open-notify.org/iss-now.json\"\n",
    "response = urllib.request.urlopen(url) \n",
    "result = json.loads(response.read())\n",
    "result"
   ]
  },
  {
   "cell_type": "code",
   "execution_count": 105,
   "id": "ab6b2885-b632-44bf-a815-d5a1e94c15dd",
   "metadata": {},
   "outputs": [
    {
     "data": {
      "text/plain": [
       "[{'iss_position': {'latitude': '-0.5093', 'longitude': '-126.8758'},\n",
       "  'message': 'success',\n",
       "  'timestamp': 1657595874},\n",
       " {'iss_position': {'latitude': '-0.1282', 'longitude': '-126.6058'},\n",
       "  'message': 'success',\n",
       "  'timestamp': 1657595882},\n",
       " {'iss_position': {'latitude': '0.1259', 'longitude': '-126.4258'},\n",
       "  'message': 'success',\n",
       "  'timestamp': 1657595887},\n",
       " {'iss_position': {'latitude': '0.3799', 'longitude': '-126.2458'},\n",
       "  'message': 'success',\n",
       "  'timestamp': 1657595892},\n",
       " {'iss_position': {'latitude': '0.6340', 'longitude': '-126.0659'},\n",
       "  'message': 'success',\n",
       "  'timestamp': 1657595897},\n",
       " {'iss_position': {'latitude': '0.8880', 'longitude': '-125.8859'},\n",
       "  'message': 'success',\n",
       "  'timestamp': 1657595902},\n",
       " {'iss_position': {'latitude': '1.1420', 'longitude': '-125.7058'},\n",
       "  'message': 'success',\n",
       "  'timestamp': 1657595907},\n",
       " {'iss_position': {'latitude': '1.3961', 'longitude': '-125.5257'},\n",
       "  'message': 'success',\n",
       "  'timestamp': 1657595912},\n",
       " {'iss_position': {'latitude': '1.6755', 'longitude': '-125.3275'},\n",
       "  'message': 'success',\n",
       "  'timestamp': 1657595917},\n",
       " {'iss_position': {'latitude': '1.9042', 'longitude': '-125.1653'},\n",
       "  'message': 'success',\n",
       "  'timestamp': 1657595922},\n",
       " {'iss_position': {'latitude': '2.1835', 'longitude': '-124.9671'},\n",
       "  'message': 'success',\n",
       "  'timestamp': 1657595927},\n",
       " {'iss_position': {'latitude': '2.4121', 'longitude': '-124.8048'},\n",
       "  'message': 'success',\n",
       "  'timestamp': 1657595932},\n",
       " {'iss_position': {'latitude': '2.6660', 'longitude': '-124.6244'},\n",
       "  'message': 'success',\n",
       "  'timestamp': 1657595937},\n",
       " {'iss_position': {'latitude': '2.9200', 'longitude': '-124.4439'},\n",
       "  'message': 'success',\n",
       "  'timestamp': 1657595942},\n",
       " {'iss_position': {'latitude': '3.1992', 'longitude': '-124.2452'},\n",
       "  'message': 'success',\n",
       "  'timestamp': 1657595948},\n",
       " {'iss_position': {'latitude': '3.4277', 'longitude': '-124.0826'},\n",
       "  'message': 'success',\n",
       "  'timestamp': 1657595952},\n",
       " {'iss_position': {'latitude': '3.6815', 'longitude': '-123.9018'},\n",
       "  'message': 'success',\n",
       "  'timestamp': 1657595957},\n",
       " {'iss_position': {'latitude': '3.9353', 'longitude': '-123.7209'},\n",
       "  'message': 'success',\n",
       "  'timestamp': 1657595962},\n",
       " {'iss_position': {'latitude': '4.1890', 'longitude': '-123.5398'},\n",
       "  'message': 'success',\n",
       "  'timestamp': 1657595967},\n",
       " {'iss_position': {'latitude': '4.4427', 'longitude': '-123.3586'},\n",
       "  'message': 'success',\n",
       "  'timestamp': 1657595972},\n",
       " {'iss_position': {'latitude': '4.7217', 'longitude': '-123.1591'},\n",
       "  'message': 'success',\n",
       "  'timestamp': 1657595978},\n",
       " {'iss_position': {'latitude': '4.9752', 'longitude': '-122.9777'},\n",
       "  'message': 'success',\n",
       "  'timestamp': 1657595983},\n",
       " {'iss_position': {'latitude': '5.2034', 'longitude': '-122.8142'},\n",
       "  'message': 'success',\n",
       "  'timestamp': 1657595987},\n",
       " {'iss_position': {'latitude': '5.4568', 'longitude': '-122.6325'},\n",
       "  'message': 'success',\n",
       "  'timestamp': 1657595992},\n",
       " {'iss_position': {'latitude': '5.7101', 'longitude': '-122.4505'},\n",
       "  'message': 'success',\n",
       "  'timestamp': 1657595997},\n",
       " {'iss_position': {'latitude': '5.9635', 'longitude': '-122.2683'},\n",
       "  'message': 'success',\n",
       "  'timestamp': 1657596002},\n",
       " {'iss_position': {'latitude': '6.1914', 'longitude': '-122.1042'},\n",
       "  'message': 'success',\n",
       "  'timestamp': 1657596007},\n",
       " {'iss_position': {'latitude': '6.4699', 'longitude': '-121.9035'},\n",
       "  'message': 'success',\n",
       "  'timestamp': 1657596012},\n",
       " {'iss_position': {'latitude': '6.7230', 'longitude': '-121.7207'},\n",
       "  'message': 'success',\n",
       "  'timestamp': 1657596017},\n",
       " {'iss_position': {'latitude': '6.9760', 'longitude': '-121.5378'},\n",
       "  'message': 'success',\n",
       "  'timestamp': 1657596022},\n",
       " {'iss_position': {'latitude': '7.2289', 'longitude': '-121.3546'},\n",
       "  'message': 'success',\n",
       "  'timestamp': 1657596027},\n",
       " {'iss_position': {'latitude': '7.5069', 'longitude': '-121.1529'},\n",
       "  'message': 'success',\n",
       "  'timestamp': 1657596033},\n",
       " {'iss_position': {'latitude': '7.7343', 'longitude': '-120.9876'},\n",
       "  'message': 'success',\n",
       "  'timestamp': 1657596037},\n",
       " {'iss_position': {'latitude': '7.9869', 'longitude': '-120.8037'},\n",
       "  'message': 'success',\n",
       "  'timestamp': 1657596042},\n",
       " {'iss_position': {'latitude': '8.2395', 'longitude': '-120.6196'},\n",
       "  'message': 'success',\n",
       "  'timestamp': 1657596047},\n",
       " {'iss_position': {'latitude': '8.4918', 'longitude': '-120.4352'},\n",
       "  'message': 'success',\n",
       "  'timestamp': 1657596052},\n",
       " {'iss_position': {'latitude': '8.7441', 'longitude': '-120.2506'},\n",
       "  'message': 'success',\n",
       "  'timestamp': 1657596057},\n",
       " {'iss_position': {'latitude': '8.9964', 'longitude': '-120.0656'},\n",
       "  'message': 'success',\n",
       "  'timestamp': 1657596062},\n",
       " {'iss_position': {'latitude': '9.2485', 'longitude': '-119.8803'},\n",
       "  'message': 'success',\n",
       "  'timestamp': 1657596067},\n",
       " {'iss_position': {'latitude': '9.5005', 'longitude': '-119.6948'},\n",
       "  'message': 'success',\n",
       "  'timestamp': 1657596072},\n",
       " {'iss_position': {'latitude': '9.7523', 'longitude': '-119.5089'},\n",
       "  'message': 'success',\n",
       "  'timestamp': 1657596077},\n",
       " {'iss_position': {'latitude': '10.0040', 'longitude': '-119.3228'},\n",
       "  'message': 'success',\n",
       "  'timestamp': 1657596082},\n",
       " {'iss_position': {'latitude': '10.2305', 'longitude': '-119.1550'},\n",
       "  'message': 'success',\n",
       "  'timestamp': 1657596087},\n",
       " {'iss_position': {'latitude': '10.5071', 'longitude': '-118.9495'},\n",
       "  'message': 'success',\n",
       "  'timestamp': 1657596092},\n",
       " {'iss_position': {'latitude': '10.7584', 'longitude': '-118.7623'},\n",
       "  'message': 'success',\n",
       "  'timestamp': 1657596097},\n",
       " {'iss_position': {'latitude': '10.9845', 'longitude': '-118.5936'},\n",
       "  'message': 'success',\n",
       "  'timestamp': 1657596102},\n",
       " {'iss_position': {'latitude': '11.2606', 'longitude': '-118.3870'},\n",
       "  'message': 'success',\n",
       "  'timestamp': 1657596107},\n",
       " {'iss_position': {'latitude': '11.4865', 'longitude': '-118.2176'},\n",
       "  'message': 'success',\n",
       "  'timestamp': 1657596112},\n",
       " {'iss_position': {'latitude': '11.7372', 'longitude': '-118.0291'},\n",
       "  'message': 'success',\n",
       "  'timestamp': 1657596117},\n",
       " {'iss_position': {'latitude': '12.0129', 'longitude': '-117.8212'},\n",
       "  'message': 'success',\n",
       "  'timestamp': 1657596122},\n",
       " {'iss_position': {'latitude': '12.2384', 'longitude': '-117.6508'},\n",
       "  'message': 'success',\n",
       "  'timestamp': 1657596127},\n",
       " {'iss_position': {'latitude': '12.5137', 'longitude': '-117.4420'},\n",
       "  'message': 'success',\n",
       "  'timestamp': 1657596132},\n",
       " {'iss_position': {'latitude': '12.7638', 'longitude': '-117.2518'},\n",
       "  'message': 'success',\n",
       "  'timestamp': 1657596137},\n",
       " {'iss_position': {'latitude': '13.0138', 'longitude': '-117.0612'},\n",
       "  'message': 'success',\n",
       "  'timestamp': 1657596142},\n",
       " {'iss_position': {'latitude': '13.2636', 'longitude': '-116.8702'},\n",
       "  'message': 'success',\n",
       "  'timestamp': 1657596147},\n",
       " {'iss_position': {'latitude': '13.5132', 'longitude': '-116.6787'},\n",
       "  'message': 'success',\n",
       "  'timestamp': 1657596152},\n",
       " {'iss_position': {'latitude': '13.7377', 'longitude': '-116.5060'},\n",
       "  'message': 'success',\n",
       "  'timestamp': 1657596157},\n",
       " {'iss_position': {'latitude': '13.9870', 'longitude': '-116.3137'},\n",
       "  'message': 'success',\n",
       "  'timestamp': 1657596162},\n",
       " {'iss_position': {'latitude': '14.2361', 'longitude': '-116.1209'},\n",
       "  'message': 'success',\n",
       "  'timestamp': 1657596167},\n",
       " {'iss_position': {'latitude': '14.4849', 'longitude': '-115.9276'},\n",
       "  'message': 'success',\n",
       "  'timestamp': 1657596172},\n",
       " {'iss_position': {'latitude': '14.7337', 'longitude': '-115.7339'},\n",
       "  'message': 'success',\n",
       "  'timestamp': 1657596177},\n",
       " {'iss_position': {'latitude': '14.9823', 'longitude': '-115.5395'},\n",
       "  'message': 'success',\n",
       "  'timestamp': 1657596182},\n",
       " {'iss_position': {'latitude': '15.2306', 'longitude': '-115.3448'},\n",
       "  'message': 'success',\n",
       "  'timestamp': 1657596187},\n",
       " {'iss_position': {'latitude': '15.5035', 'longitude': '-115.1300'},\n",
       "  'message': 'success',\n",
       "  'timestamp': 1657596192},\n",
       " {'iss_position': {'latitude': '15.7266', 'longitude': '-114.9537'},\n",
       "  'message': 'success',\n",
       "  'timestamp': 1657596197},\n",
       " {'iss_position': {'latitude': '15.9744', 'longitude': '-114.7573'},\n",
       "  'message': 'success',\n",
       "  'timestamp': 1657596202},\n",
       " {'iss_position': {'latitude': '16.2219', 'longitude': '-114.5605'},\n",
       "  'message': 'success',\n",
       "  'timestamp': 1657596207},\n",
       " {'iss_position': {'latitude': '16.4692', 'longitude': '-114.3630'},\n",
       "  'message': 'success',\n",
       "  'timestamp': 1657596212},\n",
       " {'iss_position': {'latitude': '16.7162', 'longitude': '-114.1651'},\n",
       "  'message': 'success',\n",
       "  'timestamp': 1657596217},\n",
       " {'iss_position': {'latitude': '16.9629', 'longitude': '-113.9666'},\n",
       "  'message': 'success',\n",
       "  'timestamp': 1657596222},\n",
       " {'iss_position': {'latitude': '17.2342', 'longitude': '-113.7475'},\n",
       "  'message': 'success',\n",
       "  'timestamp': 1657596228},\n",
       " {'iss_position': {'latitude': '17.4558', 'longitude': '-113.5677'},\n",
       "  'message': 'success',\n",
       "  'timestamp': 1657596232},\n",
       " {'iss_position': {'latitude': '17.7018', 'longitude': '-113.3675'},\n",
       "  'message': 'success',\n",
       "  'timestamp': 1657596237},\n",
       " {'iss_position': {'latitude': '17.9723', 'longitude': '-113.1464'},\n",
       "  'message': 'success',\n",
       "  'timestamp': 1657596243},\n",
       " {'iss_position': {'latitude': '18.1935', 'longitude': '-112.9649'},\n",
       "  'message': 'success',\n",
       "  'timestamp': 1657596247},\n",
       " {'iss_position': {'latitude': '18.4388', 'longitude': '-112.7627'},\n",
       "  'message': 'success',\n",
       "  'timestamp': 1657596252},\n",
       " {'iss_position': {'latitude': '18.6839', 'longitude': '-112.5599'},\n",
       "  'message': 'success',\n",
       "  'timestamp': 1657596257},\n",
       " {'iss_position': {'latitude': '18.9286', 'longitude': '-112.3565'},\n",
       "  'message': 'success',\n",
       "  'timestamp': 1657596262},\n",
       " {'iss_position': {'latitude': '19.1731', 'longitude': '-112.1524'},\n",
       "  'message': 'success',\n",
       "  'timestamp': 1657596267},\n",
       " {'iss_position': {'latitude': '19.4418', 'longitude': '-111.9271'},\n",
       "  'message': 'success',\n",
       "  'timestamp': 1657596273},\n",
       " {'iss_position': {'latitude': '19.6858', 'longitude': '-111.7215'},\n",
       "  'message': 'success',\n",
       "  'timestamp': 1657596278},\n",
       " {'iss_position': {'latitude': '19.9050', 'longitude': '-111.5360'},\n",
       "  'message': 'success',\n",
       "  'timestamp': 1657596282},\n",
       " {'iss_position': {'latitude': '20.1484', 'longitude': '-111.3291'},\n",
       "  'message': 'success',\n",
       "  'timestamp': 1657596287},\n",
       " {'iss_position': {'latitude': '20.4644', 'longitude': '-111.0592'},\n",
       "  'message': 'success',\n",
       "  'timestamp': 1657596294},\n",
       " {'iss_position': {'latitude': '20.6586', 'longitude': '-110.8924'},\n",
       "  'message': 'success',\n",
       "  'timestamp': 1657596298},\n",
       " {'iss_position': {'latitude': '20.8769', 'longitude': '-110.7042'},\n",
       "  'message': 'success',\n",
       "  'timestamp': 1657596302},\n",
       " {'iss_position': {'latitude': '21.1191', 'longitude': '-110.4944'},\n",
       "  'message': 'success',\n",
       "  'timestamp': 1657596307},\n",
       " {'iss_position': {'latitude': '21.3851', 'longitude': '-110.2628'},\n",
       "  'message': 'success',\n",
       "  'timestamp': 1657596313},\n",
       " {'iss_position': {'latitude': '21.6508', 'longitude': '-110.0302'},\n",
       "  'message': 'success',\n",
       "  'timestamp': 1657596318},\n",
       " {'iss_position': {'latitude': '21.8680', 'longitude': '-109.8392'},\n",
       "  'message': 'success',\n",
       "  'timestamp': 1657596323},\n",
       " {'iss_position': {'latitude': '22.0848', 'longitude': '-109.6476'},\n",
       "  'message': 'success',\n",
       "  'timestamp': 1657596327},\n",
       " {'iss_position': {'latitude': '22.3254', 'longitude': '-109.4339'},\n",
       "  'message': 'success',\n",
       "  'timestamp': 1657596332},\n",
       " {'iss_position': {'latitude': '22.5658', 'longitude': '-109.2193'},\n",
       "  'message': 'success',\n",
       "  'timestamp': 1657596337},\n",
       " {'iss_position': {'latitude': '22.7817', 'longitude': '-109.0256'},\n",
       "  'message': 'success',\n",
       "  'timestamp': 1657596342},\n",
       " {'iss_position': {'latitude': '23.0452', 'longitude': '-108.7879'},\n",
       "  'message': 'success',\n",
       "  'timestamp': 1657596347},\n",
       " {'iss_position': {'latitude': '23.2844', 'longitude': '-108.5709'},\n",
       "  'message': 'success',\n",
       "  'timestamp': 1657596352},\n",
       " {'iss_position': {'latitude': '23.5233', 'longitude': '-108.3530'},\n",
       "  'message': 'success',\n",
       "  'timestamp': 1657596357},\n",
       " {'iss_position': {'latitude': '23.7380', 'longitude': '-108.1562'},\n",
       "  'message': 'success',\n",
       "  'timestamp': 1657596362},\n",
       " {'iss_position': {'latitude': '23.9761', 'longitude': '-107.9367'},\n",
       "  'message': 'success',\n",
       "  'timestamp': 1657596367},\n",
       " {'iss_position': {'latitude': '24.2138', 'longitude': '-107.7164'},\n",
       "  'message': 'success',\n",
       "  'timestamp': 1657596372},\n",
       " {'iss_position': {'latitude': '24.4512', 'longitude': '-107.4950'},\n",
       "  'message': 'success',\n",
       "  'timestamp': 1657596377}]"
      ]
     },
     "execution_count": 105,
     "metadata": {},
     "output_type": "execute_result"
    }
   ],
   "source": [
    "data = [\n",
    "{'iss_position': {'latitude': '-0.5093', 'longitude': '-126.8758'},\n",
    " 'message': 'success',\n",
    " 'timestamp': 1657595874},\n",
    "{'iss_position': {'latitude': '-0.1282', 'longitude': '-126.6058'},\n",
    " 'message': 'success',\n",
    " 'timestamp': 1657595882},\n",
    "{'iss_position': {'latitude': '0.1259', 'longitude': '-126.4258'},\n",
    " 'message': 'success',\n",
    " 'timestamp': 1657595887},\n",
    "{'iss_position': {'latitude': '0.3799', 'longitude': '-126.2458'},\n",
    " 'message': 'success',\n",
    " 'timestamp': 1657595892},\n",
    "{'iss_position': {'latitude': '0.6340', 'longitude': '-126.0659'},\n",
    " 'message': 'success',\n",
    " 'timestamp': 1657595897},\n",
    "{'iss_position': {'latitude': '0.8880', 'longitude': '-125.8859'},\n",
    " 'message': 'success',\n",
    " 'timestamp': 1657595902},\n",
    "{'iss_position': {'latitude': '1.1420', 'longitude': '-125.7058'},\n",
    " 'message': 'success',\n",
    " 'timestamp': 1657595907},\n",
    "{'iss_position': {'latitude': '1.3961', 'longitude': '-125.5257'},\n",
    " 'message': 'success',\n",
    " 'timestamp': 1657595912},\n",
    "{'iss_position': {'latitude': '1.6755', 'longitude': '-125.3275'},\n",
    " 'message': 'success',\n",
    " 'timestamp': 1657595917},\n",
    "{'iss_position': {'latitude': '1.9042', 'longitude': '-125.1653'},\n",
    " 'message': 'success',\n",
    " 'timestamp': 1657595922},\n",
    "{'iss_position': {'latitude': '2.1835', 'longitude': '-124.9671'},\n",
    " 'message': 'success',\n",
    " 'timestamp': 1657595927},\n",
    "{'iss_position': {'latitude': '2.4121', 'longitude': '-124.8048'},\n",
    " 'message': 'success',\n",
    " 'timestamp': 1657595932},\n",
    "{'iss_position': {'latitude': '2.6660', 'longitude': '-124.6244'},\n",
    " 'message': 'success',\n",
    " 'timestamp': 1657595937},\n",
    "{'iss_position': {'latitude': '2.9200', 'longitude': '-124.4439'},\n",
    " 'message': 'success',\n",
    " 'timestamp': 1657595942},\n",
    "{'iss_position': {'latitude': '3.1992', 'longitude': '-124.2452'},\n",
    " 'message': 'success',\n",
    " 'timestamp': 1657595948},\n",
    "{'iss_position': {'latitude': '3.4277', 'longitude': '-124.0826'},\n",
    " 'message': 'success',\n",
    " 'timestamp': 1657595952},\n",
    "{'iss_position': {'latitude': '3.6815', 'longitude': '-123.9018'},\n",
    " 'message': 'success',\n",
    " 'timestamp': 1657595957},\n",
    "{'iss_position': {'latitude': '3.9353', 'longitude': '-123.7209'},\n",
    " 'message': 'success',\n",
    " 'timestamp': 1657595962},\n",
    "{'iss_position': {'latitude': '4.1890', 'longitude': '-123.5398'},\n",
    " 'message': 'success',\n",
    " 'timestamp': 1657595967},\n",
    "{'iss_position': {'latitude': '4.4427', 'longitude': '-123.3586'},\n",
    " 'message': 'success',\n",
    " 'timestamp': 1657595972},\n",
    "{'iss_position': {'latitude': '4.7217', 'longitude': '-123.1591'},\n",
    " 'message': 'success',\n",
    " 'timestamp': 1657595978},\n",
    "{'iss_position': {'latitude': '4.9752', 'longitude': '-122.9777'},\n",
    " 'message': 'success',\n",
    " 'timestamp': 1657595983},\n",
    "{'iss_position': {'latitude': '5.2034', 'longitude': '-122.8142'},\n",
    " 'message': 'success',\n",
    " 'timestamp': 1657595987},\n",
    "{'iss_position': {'latitude': '5.4568', 'longitude': '-122.6325'},\n",
    " 'message': 'success',\n",
    " 'timestamp': 1657595992},\n",
    "{'iss_position': {'latitude': '5.7101', 'longitude': '-122.4505'},\n",
    " 'message': 'success',\n",
    " 'timestamp': 1657595997},\n",
    "{'iss_position': {'latitude': '5.9635', 'longitude': '-122.2683'},\n",
    " 'message': 'success',\n",
    " 'timestamp': 1657596002},\n",
    "{'iss_position': {'latitude': '6.1914', 'longitude': '-122.1042'},\n",
    " 'message': 'success',\n",
    " 'timestamp': 1657596007},\n",
    "{'iss_position': {'latitude': '6.4699', 'longitude': '-121.9035'},\n",
    " 'message': 'success',\n",
    " 'timestamp': 1657596012},\n",
    "{'iss_position': {'latitude': '6.7230', 'longitude': '-121.7207'},\n",
    " 'message': 'success',\n",
    " 'timestamp': 1657596017},\n",
    "{'iss_position': {'latitude': '6.9760', 'longitude': '-121.5378'},\n",
    " 'message': 'success',\n",
    " 'timestamp': 1657596022},\n",
    "{'iss_position': {'latitude': '7.2289', 'longitude': '-121.3546'},\n",
    " 'message': 'success',\n",
    " 'timestamp': 1657596027},\n",
    "{'iss_position': {'latitude': '7.5069', 'longitude': '-121.1529'},\n",
    " 'message': 'success',\n",
    " 'timestamp': 1657596033},\n",
    "{'iss_position': {'latitude': '7.7343', 'longitude': '-120.9876'},\n",
    " 'message': 'success',\n",
    " 'timestamp': 1657596037},\n",
    "{'iss_position': {'latitude': '7.9869', 'longitude': '-120.8037'},\n",
    " 'message': 'success',\n",
    " 'timestamp': 1657596042},\n",
    "{'iss_position': {'latitude': '8.2395', 'longitude': '-120.6196'},\n",
    " 'message': 'success',\n",
    " 'timestamp': 1657596047},\n",
    "{'iss_position': {'latitude': '8.4918', 'longitude': '-120.4352'},\n",
    " 'message': 'success',\n",
    " 'timestamp': 1657596052},\n",
    "{'iss_position': {'latitude': '8.7441', 'longitude': '-120.2506'},\n",
    " 'message': 'success',\n",
    " 'timestamp': 1657596057},\n",
    "{'iss_position': {'latitude': '8.9964', 'longitude': '-120.0656'},\n",
    " 'message': 'success',\n",
    " 'timestamp': 1657596062},\n",
    "{'iss_position': {'latitude': '9.2485', 'longitude': '-119.8803'},\n",
    " 'message': 'success',\n",
    " 'timestamp': 1657596067},\n",
    "{'iss_position': {'latitude': '9.5005', 'longitude': '-119.6948'},\n",
    " 'message': 'success',\n",
    " 'timestamp': 1657596072},\n",
    "{'iss_position': {'latitude': '9.7523', 'longitude': '-119.5089'},\n",
    " 'message': 'success',\n",
    " 'timestamp': 1657596077},\n",
    "{'iss_position': {'latitude': '10.0040', 'longitude': '-119.3228'},\n",
    " 'message': 'success',\n",
    " 'timestamp': 1657596082},\n",
    "{'iss_position': {'latitude': '10.2305', 'longitude': '-119.1550'},\n",
    " 'message': 'success',\n",
    " 'timestamp': 1657596087},\n",
    "{'iss_position': {'latitude': '10.5071', 'longitude': '-118.9495'},\n",
    " 'message': 'success',\n",
    " 'timestamp': 1657596092},\n",
    "{'iss_position': {'latitude': '10.7584', 'longitude': '-118.7623'},\n",
    " 'message': 'success',\n",
    " 'timestamp': 1657596097},\n",
    "{'iss_position': {'latitude': '10.9845', 'longitude': '-118.5936'},\n",
    " 'message': 'success',\n",
    " 'timestamp': 1657596102},\n",
    "{'iss_position': {'latitude': '11.2606', 'longitude': '-118.3870'},\n",
    " 'message': 'success',\n",
    " 'timestamp': 1657596107},\n",
    "{'iss_position': {'latitude': '11.4865', 'longitude': '-118.2176'},\n",
    " 'message': 'success',\n",
    " 'timestamp': 1657596112},\n",
    "{'iss_position': {'latitude': '11.7372', 'longitude': '-118.0291'},\n",
    " 'message': 'success',\n",
    " 'timestamp': 1657596117},\n",
    "{'iss_position': {'latitude': '12.0129', 'longitude': '-117.8212'},\n",
    " 'message': 'success',\n",
    " 'timestamp': 1657596122},\n",
    "{'iss_position': {'latitude': '12.2384', 'longitude': '-117.6508'},\n",
    " 'message': 'success',\n",
    " 'timestamp': 1657596127},\n",
    "{'iss_position': {'latitude': '12.5137', 'longitude': '-117.4420'},\n",
    " 'message': 'success',\n",
    " 'timestamp': 1657596132},\n",
    "{'iss_position': {'latitude': '12.7638', 'longitude': '-117.2518'},\n",
    " 'message': 'success',\n",
    " 'timestamp': 1657596137},\n",
    "{'iss_position': {'latitude': '13.0138', 'longitude': '-117.0612'},\n",
    " 'message': 'success',\n",
    " 'timestamp': 1657596142},\n",
    "{'iss_position': {'latitude': '13.2636', 'longitude': '-116.8702'},\n",
    " 'message': 'success',\n",
    " 'timestamp': 1657596147},\n",
    "{'iss_position': {'latitude': '13.5132', 'longitude': '-116.6787'},\n",
    " 'message': 'success',\n",
    " 'timestamp': 1657596152},\n",
    "{'iss_position': {'latitude': '13.7377', 'longitude': '-116.5060'},\n",
    " 'message': 'success',\n",
    " 'timestamp': 1657596157},\n",
    "{'iss_position': {'latitude': '13.9870', 'longitude': '-116.3137'},\n",
    " 'message': 'success',\n",
    " 'timestamp': 1657596162},\n",
    "{'iss_position': {'latitude': '14.2361', 'longitude': '-116.1209'},\n",
    " 'message': 'success',\n",
    " 'timestamp': 1657596167},\n",
    "{'iss_position': {'latitude': '14.4849', 'longitude': '-115.9276'},\n",
    " 'message': 'success',\n",
    " 'timestamp': 1657596172},\n",
    "{'iss_position': {'latitude': '14.7337', 'longitude': '-115.7339'},\n",
    " 'message': 'success',\n",
    " 'timestamp': 1657596177},\n",
    "{'iss_position': {'latitude': '14.9823', 'longitude': '-115.5395'},\n",
    " 'message': 'success',\n",
    " 'timestamp': 1657596182},\n",
    "{'iss_position': {'latitude': '15.2306', 'longitude': '-115.3448'},\n",
    " 'message': 'success',\n",
    " 'timestamp': 1657596187},\n",
    "{'iss_position': {'latitude': '15.5035', 'longitude': '-115.1300'},\n",
    " 'message': 'success',\n",
    " 'timestamp': 1657596192},\n",
    "{'iss_position': {'latitude': '15.7266', 'longitude': '-114.9537'},\n",
    " 'message': 'success',\n",
    " 'timestamp': 1657596197},\n",
    "{'iss_position': {'latitude': '15.9744', 'longitude': '-114.7573'},\n",
    " 'message': 'success',\n",
    " 'timestamp': 1657596202},\n",
    "{'iss_position': {'latitude': '16.2219', 'longitude': '-114.5605'},\n",
    " 'message': 'success',\n",
    " 'timestamp': 1657596207},\n",
    "{'iss_position': {'latitude': '16.4692', 'longitude': '-114.3630'},\n",
    " 'message': 'success',\n",
    " 'timestamp': 1657596212},\n",
    "{'iss_position': {'latitude': '16.7162', 'longitude': '-114.1651'},\n",
    " 'message': 'success',\n",
    " 'timestamp': 1657596217},\n",
    "{'iss_position': {'latitude': '16.9629', 'longitude': '-113.9666'},\n",
    " 'message': 'success',\n",
    " 'timestamp': 1657596222},\n",
    "{'iss_position': {'latitude': '17.2342', 'longitude': '-113.7475'},\n",
    " 'message': 'success',\n",
    " 'timestamp': 1657596228},\n",
    "{'iss_position': {'latitude': '17.4558', 'longitude': '-113.5677'},\n",
    " 'message': 'success',\n",
    " 'timestamp': 1657596232},\n",
    "{'iss_position': {'latitude': '17.7018', 'longitude': '-113.3675'},\n",
    " 'message': 'success',\n",
    " 'timestamp': 1657596237},\n",
    "{'iss_position': {'latitude': '17.9723', 'longitude': '-113.1464'},\n",
    " 'message': 'success',\n",
    " 'timestamp': 1657596243},\n",
    "{'iss_position': {'latitude': '18.1935', 'longitude': '-112.9649'},\n",
    " 'message': 'success',\n",
    " 'timestamp': 1657596247},\n",
    "{'iss_position': {'latitude': '18.4388', 'longitude': '-112.7627'},\n",
    " 'message': 'success',\n",
    " 'timestamp': 1657596252},\n",
    "{'iss_position': {'latitude': '18.6839', 'longitude': '-112.5599'},\n",
    " 'message': 'success',\n",
    " 'timestamp': 1657596257},\n",
    "{'iss_position': {'latitude': '18.9286', 'longitude': '-112.3565'},\n",
    " 'message': 'success',\n",
    " 'timestamp': 1657596262},\n",
    "{'iss_position': {'latitude': '19.1731', 'longitude': '-112.1524'},\n",
    " 'message': 'success',\n",
    " 'timestamp': 1657596267},\n",
    "{'iss_position': {'latitude': '19.4418', 'longitude': '-111.9271'},\n",
    " 'message': 'success',\n",
    " 'timestamp': 1657596273},\n",
    "{'iss_position': {'latitude': '19.6858', 'longitude': '-111.7215'},\n",
    " 'message': 'success',\n",
    " 'timestamp': 1657596278},\n",
    "{'iss_position': {'latitude': '19.9050', 'longitude': '-111.5360'},\n",
    " 'message': 'success',\n",
    " 'timestamp': 1657596282},\n",
    "{'iss_position': {'latitude': '20.1484', 'longitude': '-111.3291'},\n",
    " 'message': 'success',\n",
    " 'timestamp': 1657596287},\n",
    "{'iss_position': {'latitude': '20.4644', 'longitude': '-111.0592'},\n",
    " 'message': 'success',\n",
    " 'timestamp': 1657596294},\n",
    "{'iss_position': {'latitude': '20.6586', 'longitude': '-110.8924'},\n",
    " 'message': 'success',\n",
    " 'timestamp': 1657596298},\n",
    "{'iss_position': {'latitude': '20.8769', 'longitude': '-110.7042'},\n",
    " 'message': 'success',\n",
    " 'timestamp': 1657596302},\n",
    "{'iss_position': {'latitude': '21.1191', 'longitude': '-110.4944'},\n",
    " 'message': 'success',\n",
    " 'timestamp': 1657596307},\n",
    "{'iss_position': {'latitude': '21.3851', 'longitude': '-110.2628'},\n",
    " 'message': 'success',\n",
    " 'timestamp': 1657596313},\n",
    "{'iss_position': {'latitude': '21.6508', 'longitude': '-110.0302'},\n",
    " 'message': 'success',\n",
    " 'timestamp': 1657596318},\n",
    "{'iss_position': {'latitude': '21.8680', 'longitude': '-109.8392'},\n",
    " 'message': 'success',\n",
    " 'timestamp': 1657596323},\n",
    "{'iss_position': {'latitude': '22.0848', 'longitude': '-109.6476'},\n",
    " 'message': 'success',\n",
    " 'timestamp': 1657596327},\n",
    "{'iss_position': {'latitude': '22.3254', 'longitude': '-109.4339'},\n",
    " 'message': 'success',\n",
    " 'timestamp': 1657596332},\n",
    "{'iss_position': {'latitude': '22.5658', 'longitude': '-109.2193'},\n",
    " 'message': 'success',\n",
    " 'timestamp': 1657596337},\n",
    "{'iss_position': {'latitude': '22.7817', 'longitude': '-109.0256'},\n",
    " 'message': 'success',\n",
    " 'timestamp': 1657596342},\n",
    "{'iss_position': {'latitude': '23.0452', 'longitude': '-108.7879'},\n",
    " 'message': 'success',\n",
    " 'timestamp': 1657596347},\n",
    "{'iss_position': {'latitude': '23.2844', 'longitude': '-108.5709'},\n",
    " 'message': 'success',\n",
    " 'timestamp': 1657596352},\n",
    "{'iss_position': {'latitude': '23.5233', 'longitude': '-108.3530'},\n",
    " 'message': 'success',\n",
    " 'timestamp': 1657596357},\n",
    "{'iss_position': {'latitude': '23.7380', 'longitude': '-108.1562'},\n",
    " 'message': 'success',\n",
    " 'timestamp': 1657596362},\n",
    "{'iss_position': {'latitude': '23.9761', 'longitude': '-107.9367'},\n",
    " 'message': 'success',\n",
    " 'timestamp': 1657596367},\n",
    "{'iss_position': {'latitude': '24.2138', 'longitude': '-107.7164'},\n",
    " 'message': 'success',\n",
    " 'timestamp': 1657596372},\n",
    "{'iss_position': {'latitude': '24.4512', 'longitude': '-107.4950'},\n",
    " 'message': 'success',\n",
    " 'timestamp': 1657596377}\n",
    "]\n",
    "data"
   ]
  },
  {
   "cell_type": "code",
   "execution_count": 106,
   "id": "b57202bb-9004-4a1b-96eb-c0201ac4dc33",
   "metadata": {},
   "outputs": [
    {
     "data": {
      "text/html": [
       "<div>\n",
       "<style scoped>\n",
       "    .dataframe tbody tr th:only-of-type {\n",
       "        vertical-align: middle;\n",
       "    }\n",
       "\n",
       "    .dataframe tbody tr th {\n",
       "        vertical-align: top;\n",
       "    }\n",
       "\n",
       "    .dataframe thead th {\n",
       "        text-align: right;\n",
       "    }\n",
       "</style>\n",
       "<table border=\"1\" class=\"dataframe\">\n",
       "  <thead>\n",
       "    <tr style=\"text-align: right;\">\n",
       "      <th></th>\n",
       "      <th>latitude</th>\n",
       "      <th>longitude</th>\n",
       "      <th>timestamp</th>\n",
       "    </tr>\n",
       "  </thead>\n",
       "  <tbody>\n",
       "    <tr>\n",
       "      <th>0</th>\n",
       "      <td>-0.5093</td>\n",
       "      <td>-126.8758</td>\n",
       "      <td>1657595874</td>\n",
       "    </tr>\n",
       "    <tr>\n",
       "      <th>1</th>\n",
       "      <td>-0.1282</td>\n",
       "      <td>-126.6058</td>\n",
       "      <td>1657595882</td>\n",
       "    </tr>\n",
       "    <tr>\n",
       "      <th>2</th>\n",
       "      <td>0.1259</td>\n",
       "      <td>-126.4258</td>\n",
       "      <td>1657595887</td>\n",
       "    </tr>\n",
       "    <tr>\n",
       "      <th>3</th>\n",
       "      <td>0.3799</td>\n",
       "      <td>-126.2458</td>\n",
       "      <td>1657595892</td>\n",
       "    </tr>\n",
       "    <tr>\n",
       "      <th>4</th>\n",
       "      <td>0.6340</td>\n",
       "      <td>-126.0659</td>\n",
       "      <td>1657595897</td>\n",
       "    </tr>\n",
       "    <tr>\n",
       "      <th>...</th>\n",
       "      <td>...</td>\n",
       "      <td>...</td>\n",
       "      <td>...</td>\n",
       "    </tr>\n",
       "    <tr>\n",
       "      <th>96</th>\n",
       "      <td>23.5233</td>\n",
       "      <td>-108.3530</td>\n",
       "      <td>1657596357</td>\n",
       "    </tr>\n",
       "    <tr>\n",
       "      <th>97</th>\n",
       "      <td>23.7380</td>\n",
       "      <td>-108.1562</td>\n",
       "      <td>1657596362</td>\n",
       "    </tr>\n",
       "    <tr>\n",
       "      <th>98</th>\n",
       "      <td>23.9761</td>\n",
       "      <td>-107.9367</td>\n",
       "      <td>1657596367</td>\n",
       "    </tr>\n",
       "    <tr>\n",
       "      <th>99</th>\n",
       "      <td>24.2138</td>\n",
       "      <td>-107.7164</td>\n",
       "      <td>1657596372</td>\n",
       "    </tr>\n",
       "    <tr>\n",
       "      <th>100</th>\n",
       "      <td>24.4512</td>\n",
       "      <td>-107.4950</td>\n",
       "      <td>1657596377</td>\n",
       "    </tr>\n",
       "  </tbody>\n",
       "</table>\n",
       "<p>101 rows × 3 columns</p>\n",
       "</div>"
      ],
      "text/plain": [
       "    latitude  longitude   timestamp\n",
       "0    -0.5093  -126.8758  1657595874\n",
       "1    -0.1282  -126.6058  1657595882\n",
       "2     0.1259  -126.4258  1657595887\n",
       "3     0.3799  -126.2458  1657595892\n",
       "4     0.6340  -126.0659  1657595897\n",
       "..       ...        ...         ...\n",
       "96   23.5233  -108.3530  1657596357\n",
       "97   23.7380  -108.1562  1657596362\n",
       "98   23.9761  -107.9367  1657596367\n",
       "99   24.2138  -107.7164  1657596372\n",
       "100  24.4512  -107.4950  1657596377\n",
       "\n",
       "[101 rows x 3 columns]"
      ]
     },
     "metadata": {},
     "output_type": "display_data"
    }
   ],
   "source": [
    "import csv \n",
    "import pandas as pd\n",
    "import numpy as np\n",
    "\n",
    "listdf = pd.DataFrame(data)\n",
    "\n",
    "newlistdf = listdf.drop(columns=['message'])\n",
    "iss = (newlistdf[\"iss_position\"])\n",
    "issdf = pd.DataFrame(iss)\n",
    "\n",
    "indivissdf = pd.DataFrame.from_dict({(i): iss[i]\n",
    "                        for i in iss.keys()},\n",
    "                       orient = 'index')\n",
    "nnewlistdf = newlistdf.drop(columns=['iss_position'])\n",
    "\n",
    "df1 = indivissdf\n",
    "df2 = nnewlistdf\n",
    "\n",
    "result = pd.concat([df1, df2], axis=1, join='inner')\n",
    "newdf = result\n",
    "display(result)"
   ]
  },
  {
   "cell_type": "code",
   "execution_count": 107,
   "id": "f94bfbf7-8034-4a85-bbf4-e97a84ed2479",
   "metadata": {},
   "outputs": [
    {
     "data": {
      "image/png": "[encoded data removed]",
      "text/plain": [
       "<Figure size 432x288 with 1 Axes>"
      ]
     },
     "metadata": {
      "needs_background": "light"
     },
     "output_type": "display_data"
    }
   ],
   "source": [
    "import pandas as pd\n",
    "import matplotlib.pyplot as plt\n",
    "\n",
    "newdf.plot(kind='scatter',x='longitude',y='latitude',color='red')\n",
    "plt.show()"
   ]
  },
  {
   "cell_type": "code",
   "execution_count": null,
   "id": "d44ea2f4-67ab-4567-9558-ddf8d579b744",
   "metadata": {},
   "outputs": [],
   "source": []
  }
 ],
 "metadata": {
  "kernelspec": {
   "display_name": "Python 3 (ipykernel)",
   "language": "python",
   "name": "python3"
  },
  "language_info": {
   "codemirror_mode": {
    "name": "ipython",
    "version": 3
   },
   "file_extension": ".py",
   "mimetype": "text/x-python",
   "name": "python",
   "nbconvert_exporter": "python",
   "pygments_lexer": "ipython3",
   "version": "3.9.12"
  }
 },
 "nbformat": 4,
 "nbformat_minor": 5
}
